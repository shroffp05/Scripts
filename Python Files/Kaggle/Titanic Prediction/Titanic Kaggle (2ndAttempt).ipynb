{
 "cells": [
  {
   "cell_type": "markdown",
   "metadata": {},
   "source": [
    "<b> Titanic Kaggle Competition </b> \n",
    "\n",
    "The competition is simple: use machine learning to create a model that predicts which passengers survived the Titanic shipwreck."
   ]
  },
  {
   "cell_type": "code",
   "execution_count": 1,
   "metadata": {},
   "outputs": [],
   "source": [
    "# importing packages \n",
    "import pandas as pd\n",
    "import numpy as np \n",
    "import statsmodels.api as sm\n",
    "import matplotlib.pyplot as plt \n",
    "import seaborn as sns \n",
    "%matplotlib inline\n",
    "import sklearn"
   ]
  },
  {
   "cell_type": "code",
   "execution_count": 2,
   "metadata": {},
   "outputs": [],
   "source": [
    "# Reading the training dataset \n",
    "train = pd.read_csv('train.csv')"
   ]
  },
  {
   "cell_type": "code",
   "execution_count": 3,
   "metadata": {},
   "outputs": [],
   "source": [
    "# Reading the test dataset\n",
    "test = pd.read_csv('test.csv')"
   ]
  },
  {
   "cell_type": "code",
   "execution_count": 4,
   "metadata": {},
   "outputs": [
    {
     "data": {
      "text/html": [
       "<div>\n",
       "<style scoped>\n",
       "    .dataframe tbody tr th:only-of-type {\n",
       "        vertical-align: middle;\n",
       "    }\n",
       "\n",
       "    .dataframe tbody tr th {\n",
       "        vertical-align: top;\n",
       "    }\n",
       "\n",
       "    .dataframe thead th {\n",
       "        text-align: right;\n",
       "    }\n",
       "</style>\n",
       "<table border=\"1\" class=\"dataframe\">\n",
       "  <thead>\n",
       "    <tr style=\"text-align: right;\">\n",
       "      <th></th>\n",
       "      <th>PassengerId</th>\n",
       "      <th>Survived</th>\n",
       "      <th>Pclass</th>\n",
       "      <th>Name</th>\n",
       "      <th>Sex</th>\n",
       "      <th>Age</th>\n",
       "      <th>SibSp</th>\n",
       "      <th>Parch</th>\n",
       "      <th>Ticket</th>\n",
       "      <th>Fare</th>\n",
       "      <th>Cabin</th>\n",
       "      <th>Embarked</th>\n",
       "    </tr>\n",
       "  </thead>\n",
       "  <tbody>\n",
       "    <tr>\n",
       "      <th>0</th>\n",
       "      <td>1</td>\n",
       "      <td>0</td>\n",
       "      <td>3</td>\n",
       "      <td>Braund, Mr. Owen Harris</td>\n",
       "      <td>male</td>\n",
       "      <td>22.0</td>\n",
       "      <td>1</td>\n",
       "      <td>0</td>\n",
       "      <td>A/5 21171</td>\n",
       "      <td>7.2500</td>\n",
       "      <td>NaN</td>\n",
       "      <td>S</td>\n",
       "    </tr>\n",
       "    <tr>\n",
       "      <th>1</th>\n",
       "      <td>2</td>\n",
       "      <td>1</td>\n",
       "      <td>1</td>\n",
       "      <td>Cumings, Mrs. John Bradley (Florence Briggs Th...</td>\n",
       "      <td>female</td>\n",
       "      <td>38.0</td>\n",
       "      <td>1</td>\n",
       "      <td>0</td>\n",
       "      <td>PC 17599</td>\n",
       "      <td>71.2833</td>\n",
       "      <td>C85</td>\n",
       "      <td>C</td>\n",
       "    </tr>\n",
       "    <tr>\n",
       "      <th>2</th>\n",
       "      <td>3</td>\n",
       "      <td>1</td>\n",
       "      <td>3</td>\n",
       "      <td>Heikkinen, Miss. Laina</td>\n",
       "      <td>female</td>\n",
       "      <td>26.0</td>\n",
       "      <td>0</td>\n",
       "      <td>0</td>\n",
       "      <td>STON/O2. 3101282</td>\n",
       "      <td>7.9250</td>\n",
       "      <td>NaN</td>\n",
       "      <td>S</td>\n",
       "    </tr>\n",
       "    <tr>\n",
       "      <th>3</th>\n",
       "      <td>4</td>\n",
       "      <td>1</td>\n",
       "      <td>1</td>\n",
       "      <td>Futrelle, Mrs. Jacques Heath (Lily May Peel)</td>\n",
       "      <td>female</td>\n",
       "      <td>35.0</td>\n",
       "      <td>1</td>\n",
       "      <td>0</td>\n",
       "      <td>113803</td>\n",
       "      <td>53.1000</td>\n",
       "      <td>C123</td>\n",
       "      <td>S</td>\n",
       "    </tr>\n",
       "    <tr>\n",
       "      <th>4</th>\n",
       "      <td>5</td>\n",
       "      <td>0</td>\n",
       "      <td>3</td>\n",
       "      <td>Allen, Mr. William Henry</td>\n",
       "      <td>male</td>\n",
       "      <td>35.0</td>\n",
       "      <td>0</td>\n",
       "      <td>0</td>\n",
       "      <td>373450</td>\n",
       "      <td>8.0500</td>\n",
       "      <td>NaN</td>\n",
       "      <td>S</td>\n",
       "    </tr>\n",
       "  </tbody>\n",
       "</table>\n",
       "</div>"
      ],
      "text/plain": [
       "   PassengerId  Survived  Pclass  \\\n",
       "0            1         0       3   \n",
       "1            2         1       1   \n",
       "2            3         1       3   \n",
       "3            4         1       1   \n",
       "4            5         0       3   \n",
       "\n",
       "                                                Name     Sex   Age  SibSp  \\\n",
       "0                            Braund, Mr. Owen Harris    male  22.0      1   \n",
       "1  Cumings, Mrs. John Bradley (Florence Briggs Th...  female  38.0      1   \n",
       "2                             Heikkinen, Miss. Laina  female  26.0      0   \n",
       "3       Futrelle, Mrs. Jacques Heath (Lily May Peel)  female  35.0      1   \n",
       "4                           Allen, Mr. William Henry    male  35.0      0   \n",
       "\n",
       "   Parch            Ticket     Fare Cabin Embarked  \n",
       "0      0         A/5 21171   7.2500   NaN        S  \n",
       "1      0          PC 17599  71.2833   C85        C  \n",
       "2      0  STON/O2. 3101282   7.9250   NaN        S  \n",
       "3      0            113803  53.1000  C123        S  \n",
       "4      0            373450   8.0500   NaN        S  "
      ]
     },
     "execution_count": 4,
     "metadata": {},
     "output_type": "execute_result"
    }
   ],
   "source": [
    "train.head()"
   ]
  },
  {
   "cell_type": "code",
   "execution_count": 5,
   "metadata": {},
   "outputs": [
    {
     "name": "stdout",
     "output_type": "stream",
     "text": [
      "(891, 12)\n",
      "<class 'pandas.core.frame.DataFrame'>\n",
      "RangeIndex: 891 entries, 0 to 890\n",
      "Data columns (total 12 columns):\n",
      " #   Column       Non-Null Count  Dtype  \n",
      "---  ------       --------------  -----  \n",
      " 0   PassengerId  891 non-null    int64  \n",
      " 1   Survived     891 non-null    int64  \n",
      " 2   Pclass       891 non-null    int64  \n",
      " 3   Name         891 non-null    object \n",
      " 4   Sex          891 non-null    object \n",
      " 5   Age          714 non-null    float64\n",
      " 6   SibSp        891 non-null    int64  \n",
      " 7   Parch        891 non-null    int64  \n",
      " 8   Ticket       891 non-null    object \n",
      " 9   Fare         891 non-null    float64\n",
      " 10  Cabin        204 non-null    object \n",
      " 11  Embarked     889 non-null    object \n",
      "dtypes: float64(2), int64(5), object(5)\n",
      "memory usage: 83.7+ KB\n"
     ]
    }
   ],
   "source": [
    "print(train.shape)\n",
    "train.info()"
   ]
  },
  {
   "cell_type": "code",
   "execution_count": 6,
   "metadata": {},
   "outputs": [
    {
     "name": "stdout",
     "output_type": "stream",
     "text": [
      "(418, 11)\n",
      "<class 'pandas.core.frame.DataFrame'>\n",
      "RangeIndex: 418 entries, 0 to 417\n",
      "Data columns (total 11 columns):\n",
      " #   Column       Non-Null Count  Dtype  \n",
      "---  ------       --------------  -----  \n",
      " 0   PassengerId  418 non-null    int64  \n",
      " 1   Pclass       418 non-null    int64  \n",
      " 2   Name         418 non-null    object \n",
      " 3   Sex          418 non-null    object \n",
      " 4   Age          332 non-null    float64\n",
      " 5   SibSp        418 non-null    int64  \n",
      " 6   Parch        418 non-null    int64  \n",
      " 7   Ticket       418 non-null    object \n",
      " 8   Fare         417 non-null    float64\n",
      " 9   Cabin        91 non-null     object \n",
      " 10  Embarked     418 non-null    object \n",
      "dtypes: float64(2), int64(4), object(5)\n",
      "memory usage: 36.0+ KB\n"
     ]
    }
   ],
   "source": [
    "print(test.shape)\n",
    "test.info()"
   ]
  },
  {
   "cell_type": "markdown",
   "metadata": {},
   "source": [
    "<b> Update missing values </b>\n",
    "- Missing values exist in both test and training data set. \n",
    "- Specifically Age, Cabin and Embarked have missing values in the training data set\n",
    "- And Age, Fare and Cabin are missing in the test data set"
   ]
  },
  {
   "cell_type": "code",
   "execution_count": 7,
   "metadata": {},
   "outputs": [
    {
     "data": {
      "text/html": [
       "<div>\n",
       "<style scoped>\n",
       "    .dataframe tbody tr th:only-of-type {\n",
       "        vertical-align: middle;\n",
       "    }\n",
       "\n",
       "    .dataframe tbody tr th {\n",
       "        vertical-align: top;\n",
       "    }\n",
       "\n",
       "    .dataframe thead th {\n",
       "        text-align: right;\n",
       "    }\n",
       "</style>\n",
       "<table border=\"1\" class=\"dataframe\">\n",
       "  <thead>\n",
       "    <tr style=\"text-align: right;\">\n",
       "      <th></th>\n",
       "      <th>level_0</th>\n",
       "      <th>level_1</th>\n",
       "      <th>0</th>\n",
       "    </tr>\n",
       "  </thead>\n",
       "  <tbody>\n",
       "    <tr>\n",
       "      <th>6</th>\n",
       "      <td>Age</td>\n",
       "      <td>Age</td>\n",
       "      <td>1.000000</td>\n",
       "    </tr>\n",
       "    <tr>\n",
       "      <th>9</th>\n",
       "      <td>Age</td>\n",
       "      <td>Pclass</td>\n",
       "      <td>0.408106</td>\n",
       "    </tr>\n",
       "    <tr>\n",
       "      <th>17</th>\n",
       "      <td>Age</td>\n",
       "      <td>SibSp</td>\n",
       "      <td>0.243699</td>\n",
       "    </tr>\n",
       "    <tr>\n",
       "      <th>22</th>\n",
       "      <td>Age</td>\n",
       "      <td>Fare</td>\n",
       "      <td>0.178740</td>\n",
       "    </tr>\n",
       "    <tr>\n",
       "      <th>25</th>\n",
       "      <td>Age</td>\n",
       "      <td>Parch</td>\n",
       "      <td>0.150917</td>\n",
       "    </tr>\n",
       "    <tr>\n",
       "      <th>29</th>\n",
       "      <td>Age</td>\n",
       "      <td>Survived</td>\n",
       "      <td>0.077221</td>\n",
       "    </tr>\n",
       "    <tr>\n",
       "      <th>41</th>\n",
       "      <td>Age</td>\n",
       "      <td>PassengerId</td>\n",
       "      <td>0.028814</td>\n",
       "    </tr>\n",
       "  </tbody>\n",
       "</table>\n",
       "</div>"
      ],
      "text/plain": [
       "   level_0      level_1         0\n",
       "6      Age          Age  1.000000\n",
       "9      Age       Pclass  0.408106\n",
       "17     Age        SibSp  0.243699\n",
       "22     Age         Fare  0.178740\n",
       "25     Age        Parch  0.150917\n",
       "29     Age     Survived  0.077221\n",
       "41     Age  PassengerId  0.028814"
      ]
     },
     "execution_count": 7,
     "metadata": {},
     "output_type": "execute_result"
    }
   ],
   "source": [
    "# Updating Age using the median value \n",
    "\n",
    "# combining the two data sets \n",
    "train['DataSet'] = 'Training'\n",
    "test['DataSet'] = 'Test'\n",
    "\n",
    "df_all = pd.concat([train, test], sort=True).reset_index(drop=True)\n",
    "\n",
    "df_corr = df_all.corr().abs().unstack().sort_values(kind='quicksort', ascending=False).reset_index()\n",
    "df_corr[df_corr['level_0']=='Age']"
   ]
  },
  {
   "cell_type": "code",
   "execution_count": 8,
   "metadata": {},
   "outputs": [],
   "source": [
    "# Based on correlation, we use Pclass and Sex to find the median values to fill in. \n",
    "df_all['Age'] = df_all.groupby(['Sex', 'Pclass'])['Age'].apply(lambda x: x.fillna(x.median()))"
   ]
  },
  {
   "cell_type": "code",
   "execution_count": 9,
   "metadata": {},
   "outputs": [],
   "source": [
    "# Fare is usually based on family size and class. Filling it with median value of Lower Class and family size 0 \n",
    "df_all['Fare'] = df_all.groupby(['Pclass', 'Parch', 'SibSp'])['Fare'].apply(lambda x: x.fillna(x.median()))"
   ]
  },
  {
   "cell_type": "code",
   "execution_count": 10,
   "metadata": {},
   "outputs": [
    {
     "name": "stdout",
     "output_type": "stream",
     "text": [
      "<class 'pandas.core.frame.DataFrame'>\n",
      "RangeIndex: 1309 entries, 0 to 1308\n",
      "Data columns (total 13 columns):\n",
      " #   Column       Non-Null Count  Dtype  \n",
      "---  ------       --------------  -----  \n",
      " 0   Age          1309 non-null   float64\n",
      " 1   Cabin        295 non-null    object \n",
      " 2   DataSet      1309 non-null   object \n",
      " 3   Embarked     1307 non-null   object \n",
      " 4   Fare         1309 non-null   float64\n",
      " 5   Name         1309 non-null   object \n",
      " 6   Parch        1309 non-null   int64  \n",
      " 7   PassengerId  1309 non-null   int64  \n",
      " 8   Pclass       1309 non-null   int64  \n",
      " 9   Sex          1309 non-null   object \n",
      " 10  SibSp        1309 non-null   int64  \n",
      " 11  Survived     891 non-null    float64\n",
      " 12  Ticket       1309 non-null   object \n",
      "dtypes: float64(3), int64(4), object(6)\n",
      "memory usage: 133.1+ KB\n"
     ]
    }
   ],
   "source": [
    "df_all.info()"
   ]
  },
  {
   "cell_type": "code",
   "execution_count": 11,
   "metadata": {},
   "outputs": [
    {
     "name": "stdout",
     "output_type": "stream",
     "text": [
      "<class 'pandas.core.frame.DataFrame'>\n",
      "Int64Index: 891 entries, 0 to 890\n",
      "Data columns (total 13 columns):\n",
      " #   Column       Non-Null Count  Dtype  \n",
      "---  ------       --------------  -----  \n",
      " 0   Age          891 non-null    float64\n",
      " 1   Cabin        204 non-null    object \n",
      " 2   DataSet      891 non-null    object \n",
      " 3   Embarked     889 non-null    object \n",
      " 4   Fare         891 non-null    float64\n",
      " 5   Name         891 non-null    object \n",
      " 6   Parch        891 non-null    int64  \n",
      " 7   PassengerId  891 non-null    int64  \n",
      " 8   Pclass       891 non-null    int64  \n",
      " 9   Sex          891 non-null    object \n",
      " 10  SibSp        891 non-null    int64  \n",
      " 11  Survived     891 non-null    float64\n",
      " 12  Ticket       891 non-null    object \n",
      "dtypes: float64(3), int64(4), object(6)\n",
      "memory usage: 97.5+ KB\n",
      "<class 'pandas.core.frame.DataFrame'>\n",
      "Int64Index: 418 entries, 891 to 1308\n",
      "Data columns (total 12 columns):\n",
      " #   Column       Non-Null Count  Dtype  \n",
      "---  ------       --------------  -----  \n",
      " 0   Age          418 non-null    float64\n",
      " 1   Cabin        91 non-null     object \n",
      " 2   DataSet      418 non-null    object \n",
      " 3   Embarked     418 non-null    object \n",
      " 4   Fare         418 non-null    float64\n",
      " 5   Name         418 non-null    object \n",
      " 6   Parch        418 non-null    int64  \n",
      " 7   PassengerId  418 non-null    int64  \n",
      " 8   Pclass       418 non-null    int64  \n",
      " 9   Sex          418 non-null    object \n",
      " 10  SibSp        418 non-null    int64  \n",
      " 11  Ticket       418 non-null    object \n",
      "dtypes: float64(2), int64(4), object(6)\n",
      "memory usage: 42.5+ KB\n"
     ]
    }
   ],
   "source": [
    "# split the data sets back\n",
    "train = df_all.loc[df_all['DataSet']=='Training', :].copy()\n",
    "test = df_all.loc[df_all['DataSet']=='Test', :].copy()\n",
    "test.drop('Survived', axis=1, inplace=True)\n",
    "\n",
    "train.info()\n",
    "test.info()"
   ]
  },
  {
   "cell_type": "code",
   "execution_count": 12,
   "metadata": {},
   "outputs": [
    {
     "data": {
      "text/html": [
       "<div>\n",
       "<style scoped>\n",
       "    .dataframe tbody tr th:only-of-type {\n",
       "        vertical-align: middle;\n",
       "    }\n",
       "\n",
       "    .dataframe tbody tr th {\n",
       "        vertical-align: top;\n",
       "    }\n",
       "\n",
       "    .dataframe thead th {\n",
       "        text-align: right;\n",
       "    }\n",
       "</style>\n",
       "<table border=\"1\" class=\"dataframe\">\n",
       "  <thead>\n",
       "    <tr style=\"text-align: right;\">\n",
       "      <th></th>\n",
       "      <th>Age</th>\n",
       "      <th>Cabin</th>\n",
       "      <th>DataSet</th>\n",
       "      <th>Embarked</th>\n",
       "      <th>Fare</th>\n",
       "      <th>Name</th>\n",
       "      <th>Parch</th>\n",
       "      <th>PassengerId</th>\n",
       "      <th>Pclass</th>\n",
       "      <th>Sex</th>\n",
       "      <th>SibSp</th>\n",
       "      <th>Survived</th>\n",
       "      <th>Ticket</th>\n",
       "    </tr>\n",
       "  </thead>\n",
       "  <tbody>\n",
       "    <tr>\n",
       "      <th>61</th>\n",
       "      <td>38.0</td>\n",
       "      <td>B28</td>\n",
       "      <td>Training</td>\n",
       "      <td>NaN</td>\n",
       "      <td>80.0</td>\n",
       "      <td>Icard, Miss. Amelie</td>\n",
       "      <td>0</td>\n",
       "      <td>62</td>\n",
       "      <td>1</td>\n",
       "      <td>female</td>\n",
       "      <td>0</td>\n",
       "      <td>1.0</td>\n",
       "      <td>113572</td>\n",
       "    </tr>\n",
       "    <tr>\n",
       "      <th>829</th>\n",
       "      <td>62.0</td>\n",
       "      <td>B28</td>\n",
       "      <td>Training</td>\n",
       "      <td>NaN</td>\n",
       "      <td>80.0</td>\n",
       "      <td>Stone, Mrs. George Nelson (Martha Evelyn)</td>\n",
       "      <td>0</td>\n",
       "      <td>830</td>\n",
       "      <td>1</td>\n",
       "      <td>female</td>\n",
       "      <td>0</td>\n",
       "      <td>1.0</td>\n",
       "      <td>113572</td>\n",
       "    </tr>\n",
       "  </tbody>\n",
       "</table>\n",
       "</div>"
      ],
      "text/plain": [
       "      Age Cabin   DataSet Embarked  Fare  \\\n",
       "61   38.0   B28  Training      NaN  80.0   \n",
       "829  62.0   B28  Training      NaN  80.0   \n",
       "\n",
       "                                          Name  Parch  PassengerId  Pclass  \\\n",
       "61                         Icard, Miss. Amelie      0           62       1   \n",
       "829  Stone, Mrs. George Nelson (Martha Evelyn)      0          830       1   \n",
       "\n",
       "        Sex  SibSp  Survived  Ticket  \n",
       "61   female      0       1.0  113572  \n",
       "829  female      0       1.0  113572  "
      ]
     },
     "execution_count": 12,
     "metadata": {},
     "output_type": "execute_result"
    }
   ],
   "source": [
    "# Updating missing embarked values \n",
    "train.loc[pd.isnull(train['Embarked']), :]"
   ]
  },
  {
   "cell_type": "code",
   "execution_count": 13,
   "metadata": {},
   "outputs": [],
   "source": [
    "# Based on the internet Mrs George Nelson Stone embarked from Southhampton \n",
    "train['Embarked'] = train['Embarked'].fillna('S')"
   ]
  },
  {
   "cell_type": "code",
   "execution_count": 14,
   "metadata": {},
   "outputs": [
    {
     "name": "stdout",
     "output_type": "stream",
     "text": [
      "<class 'pandas.core.frame.DataFrame'>\n",
      "Int64Index: 891 entries, 0 to 890\n",
      "Data columns (total 13 columns):\n",
      " #   Column       Non-Null Count  Dtype  \n",
      "---  ------       --------------  -----  \n",
      " 0   Age          891 non-null    float64\n",
      " 1   Cabin        204 non-null    object \n",
      " 2   DataSet      891 non-null    object \n",
      " 3   Embarked     891 non-null    object \n",
      " 4   Fare         891 non-null    float64\n",
      " 5   Name         891 non-null    object \n",
      " 6   Parch        891 non-null    int64  \n",
      " 7   PassengerId  891 non-null    int64  \n",
      " 8   Pclass       891 non-null    int64  \n",
      " 9   Sex          891 non-null    object \n",
      " 10  SibSp        891 non-null    int64  \n",
      " 11  Survived     891 non-null    float64\n",
      " 12  Ticket       891 non-null    object \n",
      "dtypes: float64(3), int64(4), object(6)\n",
      "memory usage: 97.5+ KB\n"
     ]
    }
   ],
   "source": [
    "train.info()"
   ]
  },
  {
   "cell_type": "code",
   "execution_count": 15,
   "metadata": {},
   "outputs": [],
   "source": [
    "# Update Cabin to be filled with M (Missing)\n",
    "train['Cabin'] = train['Cabin'].fillna('M')\n",
    "test['Cabin'] = test['Cabin'].fillna('M')"
   ]
  },
  {
   "cell_type": "code",
   "execution_count": 16,
   "metadata": {},
   "outputs": [
    {
     "name": "stdout",
     "output_type": "stream",
     "text": [
      "<class 'pandas.core.frame.DataFrame'>\n",
      "Int64Index: 891 entries, 0 to 890\n",
      "Data columns (total 13 columns):\n",
      " #   Column       Non-Null Count  Dtype  \n",
      "---  ------       --------------  -----  \n",
      " 0   Age          891 non-null    float64\n",
      " 1   Cabin        891 non-null    object \n",
      " 2   DataSet      891 non-null    object \n",
      " 3   Embarked     891 non-null    object \n",
      " 4   Fare         891 non-null    float64\n",
      " 5   Name         891 non-null    object \n",
      " 6   Parch        891 non-null    int64  \n",
      " 7   PassengerId  891 non-null    int64  \n",
      " 8   Pclass       891 non-null    int64  \n",
      " 9   Sex          891 non-null    object \n",
      " 10  SibSp        891 non-null    int64  \n",
      " 11  Survived     891 non-null    float64\n",
      " 12  Ticket       891 non-null    object \n",
      "dtypes: float64(3), int64(4), object(6)\n",
      "memory usage: 97.5+ KB\n",
      "<class 'pandas.core.frame.DataFrame'>\n",
      "Int64Index: 418 entries, 891 to 1308\n",
      "Data columns (total 12 columns):\n",
      " #   Column       Non-Null Count  Dtype  \n",
      "---  ------       --------------  -----  \n",
      " 0   Age          418 non-null    float64\n",
      " 1   Cabin        418 non-null    object \n",
      " 2   DataSet      418 non-null    object \n",
      " 3   Embarked     418 non-null    object \n",
      " 4   Fare         418 non-null    float64\n",
      " 5   Name         418 non-null    object \n",
      " 6   Parch        418 non-null    int64  \n",
      " 7   PassengerId  418 non-null    int64  \n",
      " 8   Pclass       418 non-null    int64  \n",
      " 9   Sex          418 non-null    object \n",
      " 10  SibSp        418 non-null    int64  \n",
      " 11  Ticket       418 non-null    object \n",
      "dtypes: float64(2), int64(4), object(6)\n",
      "memory usage: 42.5+ KB\n"
     ]
    }
   ],
   "source": [
    "train.info()\n",
    "test.info()"
   ]
  },
  {
   "cell_type": "markdown",
   "metadata": {},
   "source": [
    "<b> Exploratory Analysis </b>"
   ]
  },
  {
   "cell_type": "code",
   "execution_count": 17,
   "metadata": {},
   "outputs": [],
   "source": [
    "cat_cols = ['Pclass', 'Sex', 'Embarked']\n",
    "num_cols= ['Age', 'Fare', 'SibSp', 'Parch']"
   ]
  },
  {
   "cell_type": "code",
   "execution_count": 18,
   "metadata": {},
   "outputs": [
    {
     "data": {
      "image/png": "[encoded data removed]",
      "text/plain": [
       "<Figure size 432x288 with 1 Axes>"
      ]
     },
     "metadata": {
      "needs_background": "light"
     },
     "output_type": "display_data"
    },
    {
     "data": {
      "image/png": "[encoded data removed]",
      "text/plain": [
       "<Figure size 432x288 with 1 Axes>"
      ]
     },
     "metadata": {
      "needs_background": "light"
     },
     "output_type": "display_data"
    },
    {
     "data": {
      "image/png": "[encoded data removed]",
      "text/plain": [
       "<Figure size 432x288 with 1 Axes>"
      ]
     },
     "metadata": {
      "needs_background": "light"
     },
     "output_type": "display_data"
    },
    {
     "data": {
      "image/png": "[encoded data removed]",
      "text/plain": [
       "<Figure size 432x288 with 1 Axes>"
      ]
     },
     "metadata": {
      "needs_background": "light"
     },
     "output_type": "display_data"
    }
   ],
   "source": [
    "for i, col in enumerate(train.columns):\n",
    "    if col in num_cols:\n",
    "        plt.figure(i)\n",
    "        sns.distplot(train[col], kde=False, rug=True, bins=50)"
   ]
  },
  {
   "cell_type": "code",
   "execution_count": 19,
   "metadata": {},
   "outputs": [
    {
     "name": "stdout",
     "output_type": "stream",
     "text": [
      "S    0.7250\n",
      "C    0.1886\n",
      "Q    0.0864\n",
      "Name: Embarked, dtype: float64\n",
      "\n",
      "\n",
      "3    0.5511\n",
      "1    0.2424\n",
      "2    0.2065\n",
      "Name: Pclass, dtype: float64\n",
      "\n",
      "\n",
      "male      0.6476\n",
      "female    0.3524\n",
      "Name: Sex, dtype: float64\n",
      "\n",
      "\n"
     ]
    }
   ],
   "source": [
    "for col in train.columns.values:\n",
    "    if col in cat_cols:\n",
    "        print(train[col].value_counts(normalize=True).round(decimals=4))\n",
    "        print('\\n')"
   ]
  },
  {
   "cell_type": "code",
   "execution_count": 20,
   "metadata": {},
   "outputs": [
    {
     "data": {
      "text/plain": [
       "<matplotlib.axes._subplots.AxesSubplot at 0x1a73c05ef10>"
      ]
     },
     "execution_count": 20,
     "metadata": {},
     "output_type": "execute_result"
    },
    {
     "data": {
      "image/png": "[encoded data removed]",
      "text/plain": [
       "<Figure size 432x288 with 1 Axes>"
      ]
     },
     "metadata": {
      "needs_background": "light"
     },
     "output_type": "display_data"
    }
   ],
   "source": [
    "train['Survived'].hist(bins=100)"
   ]
  },
  {
   "cell_type": "code",
   "execution_count": 21,
   "metadata": {},
   "outputs": [
    {
     "data": {
      "image/png": "[encoded data removed]",
      "text/plain": [
       "<Figure size 1152x720 with 1 Axes>"
      ]
     },
     "metadata": {},
     "output_type": "display_data"
    }
   ],
   "source": [
    "sns.set(rc={'figure.figsize': (16,10)})\n",
    "corr = train.corr()\n",
    "corr = corr.round(1)\n",
    "mask = np.zeros_like(corr)\n",
    "mask[np.triu_indices_from(mask)] = True\n",
    "\n",
    "with sns.axes_style(\"white\"):\n",
    "    sns.heatmap(corr, mask=mask,\n",
    "               xticklabels=corr.columns.values, yticklabels=corr.columns.values,\n",
    "               center=0, cbar=False, annot=True)"
   ]
  },
  {
   "cell_type": "code",
   "execution_count": 22,
   "metadata": {},
   "outputs": [
    {
     "data": {
      "text/plain": [
       "<matplotlib.axes._subplots.AxesSubplot at 0x1a73bc57730>"
      ]
     },
     "execution_count": 22,
     "metadata": {},
     "output_type": "execute_result"
    },
    {
     "data": {
      "image/png": "[encoded data removed]",
      "text/plain": [
       "<Figure size 576x360 with 1 Axes>"
      ]
     },
     "metadata": {},
     "output_type": "display_data"
    }
   ],
   "source": [
    "# Measuring relationship between Age and Survived\n",
    "\n",
    "fig, axs = plt.subplots(figsize=(8,5))\n",
    "\n",
    "sns.distplot(train[train['Survived']==1]['Age'], label='Survived', hist=True, color='#2ecc71', ax=axs)\n",
    "sns.distplot(train[train['Survived']==0]['Age'], label='Not Survived', hist=True, color='#e74c3c', ax=axs)\n"
   ]
  },
  {
   "cell_type": "code",
   "execution_count": 23,
   "metadata": {},
   "outputs": [
    {
     "data": {
      "text/plain": [
       "<matplotlib.axes._subplots.AxesSubplot at 0x1a73bdf7190>"
      ]
     },
     "execution_count": 23,
     "metadata": {},
     "output_type": "execute_result"
    },
    {
     "data": {
      "image/png": "[encoded data removed]",
      "text/plain": [
       "<Figure size 576x360 with 1 Axes>"
      ]
     },
     "metadata": {},
     "output_type": "display_data"
    }
   ],
   "source": [
    "# Measuring relationship between Fare and Survived\n",
    "\n",
    "fig, axs = plt.subplots(figsize=(8,5))\n",
    "\n",
    "sns.distplot(train[train['Survived']==1]['Fare'], label='Survived', hist=True, color='#2ecc71', ax=axs)\n",
    "sns.distplot(train[train['Survived']==0]['Fare'], label='Not Survived', hist=True, color='#e74c3c', ax=axs)"
   ]
  },
  {
   "cell_type": "markdown",
   "metadata": {},
   "source": [
    "Fare data is highly skewed with few really high outliers"
   ]
  },
  {
   "cell_type": "code",
   "execution_count": 24,
   "metadata": {},
   "outputs": [
    {
     "data": {
      "image/png": "[encoded data removed]",
      "text/plain": [
       "<Figure size 1080x576 with 5 Axes>"
      ]
     },
     "metadata": {},
     "output_type": "display_data"
    }
   ],
   "source": [
    "# Comparing categorical variables with Survival rate \n",
    "columns = ['Embarked', 'Sex', 'Pclass', 'SibSp', 'Parch']\n",
    "fig, axs = plt.subplots(nrows=1, ncols=5, figsize=(15,8))\n",
    "\n",
    "for i, col in enumerate(columns, 1):\n",
    "    plt.subplot(1,5,i)\n",
    "    sns.countplot(x=col, data=train, hue='Survived')\n",
    "        "
   ]
  },
  {
   "cell_type": "code",
   "execution_count": 25,
   "metadata": {},
   "outputs": [
    {
     "data": {
      "text/plain": [
       "M    687\n",
       "C     59\n",
       "B     47\n",
       "D     33\n",
       "E     32\n",
       "A     15\n",
       "F     13\n",
       "G      4\n",
       "T      1\n",
       "Name: Cabin, dtype: int64"
      ]
     },
     "execution_count": 25,
     "metadata": {},
     "output_type": "execute_result"
    }
   ],
   "source": [
    "cabin = train[['Cabin', 'Survived']].copy()\n",
    "cabin['Cabin'] = cabin['Cabin'].map(lambda x: x[0])\n",
    "cabin['Cabin'].value_counts()"
   ]
  },
  {
   "cell_type": "code",
   "execution_count": 26,
   "metadata": {},
   "outputs": [
    {
     "data": {
      "text/plain": [
       "M    327\n",
       "C     35\n",
       "B     18\n",
       "D     13\n",
       "E      9\n",
       "F      8\n",
       "A      7\n",
       "G      1\n",
       "Name: Cabin, dtype: int64"
      ]
     },
     "execution_count": 26,
     "metadata": {},
     "output_type": "execute_result"
    }
   ],
   "source": [
    "cabin = test['Cabin'].copy()\n",
    "cabin = cabin.map(lambda x: x[0])\n",
    "cabin.value_counts()"
   ]
  },
  {
   "cell_type": "markdown",
   "metadata": {},
   "source": [
    "<b> Feature engineering </b>"
   ]
  },
  {
   "cell_type": "code",
   "execution_count": 27,
   "metadata": {},
   "outputs": [],
   "source": [
    "def updating_data(df):\n",
    "    # Creating new field called Title \n",
    "    df['Title'] = df['Name'].apply(lambda x: x.split(',')[1].strip().split(' ')[0])\n",
    "    df['Is_married'] = np.where(df['Title']=='Mrs',1,0)\n",
    "    df['Title'] = [0 if x in ['Mr.', 'Mrs.', 'Miss.'] else 1 for x in df['Title']]\n",
    "    df = df.rename(columns={'Title': 'Title_unusual'})\n",
    "    df.drop('Name', axis=1, inplace=True)\n",
    "    \n",
    "    # Extracting the cabin floor \n",
    "    df['CabinFlr'] = df['Cabin'].apply(lambda x: x[0])\n",
    "    idx = df[df['CabinFlr'] == 'T'].index\n",
    "    df.loc[idx, 'CabinFlr'] = 'A'\n",
    "    df.drop('Cabin', axis=1, inplace=True)\n",
    "    \n",
    "    # Converting Pclass to categorical \n",
    "    df['Pclass'] = np.where(df['Pclass']==1, 'Upper class', np.where(df['Pclass']==2, 'Middle class', 'Lower class'))\n",
    "    \n",
    "    # Add number of siblings and parents \n",
    "    df['NumFamilyMem'] = df['SibSp'] + df['Parch'] + 1 \n",
    "    df.drop(['SibSp', 'Parch'], axis=1, inplace=True)\n",
    "    map_fam = {1:'Alone', 2:'Small', 3:'Small', 4:'Small', 5:'Medium', 6:'Medium', 7:'Medium', 8:'Large',\n",
    "              9:'Large', 10:'Large', 11:'Large'}\n",
    "    df['FamilySize'] = df['NumFamilyMem'].map(map_fam)\n",
    "    df.drop('NumFamilyMem', axis=1, inplace=True)\n",
    "    \n",
    "    # Removing Ticket \n",
    "    df.drop('Ticket', axis=1, inplace=True)\n",
    "    \n",
    "    # Binning numerical features \n",
    "    df['Fare'] = pd.qcut(df['Fare'], 13)\n",
    "    df['Age'] = pd.qcut(df['Age'], 10, duplicates='drop')\n",
    "    \n",
    "    # Making Passenger ID the index\n",
    "    df = df.set_index('PassengerId')\n",
    "    \n",
    "    return df"
   ]
  },
  {
   "cell_type": "code",
   "execution_count": 28,
   "metadata": {},
   "outputs": [],
   "source": [
    "train_data = updating_data(train)"
   ]
  },
  {
   "cell_type": "code",
   "execution_count": 29,
   "metadata": {},
   "outputs": [
    {
     "data": {
      "text/html": [
       "<div>\n",
       "<style scoped>\n",
       "    .dataframe tbody tr th:only-of-type {\n",
       "        vertical-align: middle;\n",
       "    }\n",
       "\n",
       "    .dataframe tbody tr th {\n",
       "        vertical-align: top;\n",
       "    }\n",
       "\n",
       "    .dataframe thead th {\n",
       "        text-align: right;\n",
       "    }\n",
       "</style>\n",
       "<table border=\"1\" class=\"dataframe\">\n",
       "  <thead>\n",
       "    <tr style=\"text-align: right;\">\n",
       "      <th></th>\n",
       "      <th>Age</th>\n",
       "      <th>DataSet</th>\n",
       "      <th>Embarked</th>\n",
       "      <th>Fare</th>\n",
       "      <th>Pclass</th>\n",
       "      <th>Sex</th>\n",
       "      <th>Survived</th>\n",
       "      <th>Title_unusual</th>\n",
       "      <th>Is_married</th>\n",
       "      <th>CabinFlr</th>\n",
       "      <th>FamilySize</th>\n",
       "    </tr>\n",
       "    <tr>\n",
       "      <th>PassengerId</th>\n",
       "      <th></th>\n",
       "      <th></th>\n",
       "      <th></th>\n",
       "      <th></th>\n",
       "      <th></th>\n",
       "      <th></th>\n",
       "      <th></th>\n",
       "      <th></th>\n",
       "      <th></th>\n",
       "      <th></th>\n",
       "      <th></th>\n",
       "    </tr>\n",
       "  </thead>\n",
       "  <tbody>\n",
       "    <tr>\n",
       "      <th>1</th>\n",
       "      <td>(20.0, 22.0]</td>\n",
       "      <td>Training</td>\n",
       "      <td>S</td>\n",
       "      <td>(7.229, 7.75]</td>\n",
       "      <td>Lower class</td>\n",
       "      <td>male</td>\n",
       "      <td>0.0</td>\n",
       "      <td>0</td>\n",
       "      <td>0</td>\n",
       "      <td>M</td>\n",
       "      <td>Small</td>\n",
       "    </tr>\n",
       "    <tr>\n",
       "      <th>2</th>\n",
       "      <td>(34.0, 40.0]</td>\n",
       "      <td>Training</td>\n",
       "      <td>C</td>\n",
       "      <td>(55.9, 83.158]</td>\n",
       "      <td>Upper class</td>\n",
       "      <td>female</td>\n",
       "      <td>1.0</td>\n",
       "      <td>0</td>\n",
       "      <td>0</td>\n",
       "      <td>C</td>\n",
       "      <td>Small</td>\n",
       "    </tr>\n",
       "    <tr>\n",
       "      <th>3</th>\n",
       "      <td>(25.0, 26.0]</td>\n",
       "      <td>Training</td>\n",
       "      <td>S</td>\n",
       "      <td>(7.896, 8.05]</td>\n",
       "      <td>Lower class</td>\n",
       "      <td>female</td>\n",
       "      <td>1.0</td>\n",
       "      <td>0</td>\n",
       "      <td>0</td>\n",
       "      <td>M</td>\n",
       "      <td>Alone</td>\n",
       "    </tr>\n",
       "    <tr>\n",
       "      <th>4</th>\n",
       "      <td>(34.0, 40.0]</td>\n",
       "      <td>Training</td>\n",
       "      <td>S</td>\n",
       "      <td>(33.308, 55.9]</td>\n",
       "      <td>Upper class</td>\n",
       "      <td>female</td>\n",
       "      <td>1.0</td>\n",
       "      <td>0</td>\n",
       "      <td>0</td>\n",
       "      <td>C</td>\n",
       "      <td>Small</td>\n",
       "    </tr>\n",
       "    <tr>\n",
       "      <th>5</th>\n",
       "      <td>(34.0, 40.0]</td>\n",
       "      <td>Training</td>\n",
       "      <td>S</td>\n",
       "      <td>(7.896, 8.05]</td>\n",
       "      <td>Lower class</td>\n",
       "      <td>male</td>\n",
       "      <td>0.0</td>\n",
       "      <td>0</td>\n",
       "      <td>0</td>\n",
       "      <td>M</td>\n",
       "      <td>Alone</td>\n",
       "    </tr>\n",
       "  </tbody>\n",
       "</table>\n",
       "</div>"
      ],
      "text/plain": [
       "                      Age   DataSet Embarked            Fare       Pclass  \\\n",
       "PassengerId                                                                 \n",
       "1            (20.0, 22.0]  Training        S   (7.229, 7.75]  Lower class   \n",
       "2            (34.0, 40.0]  Training        C  (55.9, 83.158]  Upper class   \n",
       "3            (25.0, 26.0]  Training        S   (7.896, 8.05]  Lower class   \n",
       "4            (34.0, 40.0]  Training        S  (33.308, 55.9]  Upper class   \n",
       "5            (34.0, 40.0]  Training        S   (7.896, 8.05]  Lower class   \n",
       "\n",
       "                Sex  Survived  Title_unusual  Is_married CabinFlr FamilySize  \n",
       "PassengerId                                                                   \n",
       "1              male       0.0              0           0        M      Small  \n",
       "2            female       1.0              0           0        C      Small  \n",
       "3            female       1.0              0           0        M      Alone  \n",
       "4            female       1.0              0           0        C      Small  \n",
       "5              male       0.0              0           0        M      Alone  "
      ]
     },
     "execution_count": 29,
     "metadata": {},
     "output_type": "execute_result"
    }
   ],
   "source": [
    "train_data.head()"
   ]
  },
  {
   "cell_type": "code",
   "execution_count": 30,
   "metadata": {},
   "outputs": [
    {
     "data": {
      "text/plain": [
       "M    687\n",
       "C     59\n",
       "B     47\n",
       "D     33\n",
       "E     32\n",
       "A     16\n",
       "F     13\n",
       "G      4\n",
       "Name: CabinFlr, dtype: int64"
      ]
     },
     "execution_count": 30,
     "metadata": {},
     "output_type": "execute_result"
    }
   ],
   "source": [
    "train_data['CabinFlr'].value_counts()"
   ]
  },
  {
   "cell_type": "code",
   "execution_count": 31,
   "metadata": {},
   "outputs": [],
   "source": [
    "# Label Encoding Numerical Features\n",
    "from sklearn.preprocessing import OneHotEncoder, LabelEncoder, StandardScaler\n",
    "\n",
    "def label_encoding(df):\n",
    "    non_numeric = ['Embarked', 'Sex', 'Pclass', 'CabinFlr', 'Age', 'Fare', 'FamilySize']\n",
    "    for col in non_numeric:\n",
    "        df[col] = LabelEncoder().fit_transform(df[col])\n",
    "        \n",
    "    return df"
   ]
  },
  {
   "cell_type": "code",
   "execution_count": 32,
   "metadata": {},
   "outputs": [],
   "source": [
    "train_data = label_encoding(train_data)"
   ]
  },
  {
   "cell_type": "code",
   "execution_count": 33,
   "metadata": {},
   "outputs": [
    {
     "data": {
      "text/html": [
       "<div>\n",
       "<style scoped>\n",
       "    .dataframe tbody tr th:only-of-type {\n",
       "        vertical-align: middle;\n",
       "    }\n",
       "\n",
       "    .dataframe tbody tr th {\n",
       "        vertical-align: top;\n",
       "    }\n",
       "\n",
       "    .dataframe thead th {\n",
       "        text-align: right;\n",
       "    }\n",
       "</style>\n",
       "<table border=\"1\" class=\"dataframe\">\n",
       "  <thead>\n",
       "    <tr style=\"text-align: right;\">\n",
       "      <th></th>\n",
       "      <th>Age</th>\n",
       "      <th>DataSet</th>\n",
       "      <th>Embarked</th>\n",
       "      <th>Fare</th>\n",
       "      <th>Pclass</th>\n",
       "      <th>Sex</th>\n",
       "      <th>Survived</th>\n",
       "      <th>Title_unusual</th>\n",
       "      <th>Is_married</th>\n",
       "      <th>CabinFlr</th>\n",
       "      <th>FamilySize</th>\n",
       "    </tr>\n",
       "    <tr>\n",
       "      <th>PassengerId</th>\n",
       "      <th></th>\n",
       "      <th></th>\n",
       "      <th></th>\n",
       "      <th></th>\n",
       "      <th></th>\n",
       "      <th></th>\n",
       "      <th></th>\n",
       "      <th></th>\n",
       "      <th></th>\n",
       "      <th></th>\n",
       "      <th></th>\n",
       "    </tr>\n",
       "  </thead>\n",
       "  <tbody>\n",
       "    <tr>\n",
       "      <th>1</th>\n",
       "      <td>2</td>\n",
       "      <td>Training</td>\n",
       "      <td>2</td>\n",
       "      <td>1</td>\n",
       "      <td>0</td>\n",
       "      <td>1</td>\n",
       "      <td>0.0</td>\n",
       "      <td>0</td>\n",
       "      <td>0</td>\n",
       "      <td>7</td>\n",
       "      <td>3</td>\n",
       "    </tr>\n",
       "    <tr>\n",
       "      <th>2</th>\n",
       "      <td>7</td>\n",
       "      <td>Training</td>\n",
       "      <td>0</td>\n",
       "      <td>11</td>\n",
       "      <td>2</td>\n",
       "      <td>0</td>\n",
       "      <td>1.0</td>\n",
       "      <td>0</td>\n",
       "      <td>0</td>\n",
       "      <td>2</td>\n",
       "      <td>3</td>\n",
       "    </tr>\n",
       "    <tr>\n",
       "      <th>3</th>\n",
       "      <td>4</td>\n",
       "      <td>Training</td>\n",
       "      <td>2</td>\n",
       "      <td>3</td>\n",
       "      <td>0</td>\n",
       "      <td>0</td>\n",
       "      <td>1.0</td>\n",
       "      <td>0</td>\n",
       "      <td>0</td>\n",
       "      <td>7</td>\n",
       "      <td>0</td>\n",
       "    </tr>\n",
       "    <tr>\n",
       "      <th>4</th>\n",
       "      <td>7</td>\n",
       "      <td>Training</td>\n",
       "      <td>2</td>\n",
       "      <td>10</td>\n",
       "      <td>2</td>\n",
       "      <td>0</td>\n",
       "      <td>1.0</td>\n",
       "      <td>0</td>\n",
       "      <td>0</td>\n",
       "      <td>2</td>\n",
       "      <td>3</td>\n",
       "    </tr>\n",
       "    <tr>\n",
       "      <th>5</th>\n",
       "      <td>7</td>\n",
       "      <td>Training</td>\n",
       "      <td>2</td>\n",
       "      <td>3</td>\n",
       "      <td>0</td>\n",
       "      <td>1</td>\n",
       "      <td>0.0</td>\n",
       "      <td>0</td>\n",
       "      <td>0</td>\n",
       "      <td>7</td>\n",
       "      <td>0</td>\n",
       "    </tr>\n",
       "  </tbody>\n",
       "</table>\n",
       "</div>"
      ],
      "text/plain": [
       "             Age   DataSet  Embarked  Fare  Pclass  Sex  Survived  \\\n",
       "PassengerId                                                         \n",
       "1              2  Training         2     1       0    1       0.0   \n",
       "2              7  Training         0    11       2    0       1.0   \n",
       "3              4  Training         2     3       0    0       1.0   \n",
       "4              7  Training         2    10       2    0       1.0   \n",
       "5              7  Training         2     3       0    1       0.0   \n",
       "\n",
       "             Title_unusual  Is_married  CabinFlr  FamilySize  \n",
       "PassengerId                                                   \n",
       "1                        0           0         7           3  \n",
       "2                        0           0         2           3  \n",
       "3                        0           0         7           0  \n",
       "4                        0           0         2           3  \n",
       "5                        0           0         7           0  "
      ]
     },
     "execution_count": 33,
     "metadata": {},
     "output_type": "execute_result"
    }
   ],
   "source": [
    "train_data.head()"
   ]
  },
  {
   "cell_type": "code",
   "execution_count": 34,
   "metadata": {},
   "outputs": [],
   "source": [
    "train_data.drop('DataSet', axis=1, inplace=True)"
   ]
  },
  {
   "cell_type": "code",
   "execution_count": 35,
   "metadata": {},
   "outputs": [],
   "source": [
    "# One-Hot encoding categorical variables \n",
    "\n",
    "def onehotencode(df):\n",
    "    cat_features = ['Pclass', 'Sex', 'CabinFlr','Embarked', 'FamilySize']\n",
    "    encoded = []\n",
    "    for col in cat_features:\n",
    "        encoded_feat = OneHotEncoder().fit_transform(df[col].values.reshape(-1,1)).toarray()\n",
    "        n = df[col].nunique()\n",
    "        cols = ['{}_{}'.format(col, n) for n in range(1, n+1)]\n",
    "        encoded_df = pd.DataFrame(encoded_feat, columns=cols)\n",
    "        encoded_df.index = df.index\n",
    "        encoded.append(encoded_df)\n",
    "        \n",
    "    df = pd.concat([df, *encoded[:4]], axis=1)\n",
    "    return df"
   ]
  },
  {
   "cell_type": "code",
   "execution_count": 36,
   "metadata": {},
   "outputs": [],
   "source": [
    "train_data = onehotencode(train_data)"
   ]
  },
  {
   "cell_type": "code",
   "execution_count": 37,
   "metadata": {},
   "outputs": [
    {
     "data": {
      "text/html": [
       "<div>\n",
       "<style scoped>\n",
       "    .dataframe tbody tr th:only-of-type {\n",
       "        vertical-align: middle;\n",
       "    }\n",
       "\n",
       "    .dataframe tbody tr th {\n",
       "        vertical-align: top;\n",
       "    }\n",
       "\n",
       "    .dataframe thead th {\n",
       "        text-align: right;\n",
       "    }\n",
       "</style>\n",
       "<table border=\"1\" class=\"dataframe\">\n",
       "  <thead>\n",
       "    <tr style=\"text-align: right;\">\n",
       "      <th></th>\n",
       "      <th>Age</th>\n",
       "      <th>Embarked</th>\n",
       "      <th>Fare</th>\n",
       "      <th>Pclass</th>\n",
       "      <th>Sex</th>\n",
       "      <th>Survived</th>\n",
       "      <th>Title_unusual</th>\n",
       "      <th>Is_married</th>\n",
       "      <th>CabinFlr</th>\n",
       "      <th>FamilySize</th>\n",
       "      <th>...</th>\n",
       "      <th>CabinFlr_2</th>\n",
       "      <th>CabinFlr_3</th>\n",
       "      <th>CabinFlr_4</th>\n",
       "      <th>CabinFlr_5</th>\n",
       "      <th>CabinFlr_6</th>\n",
       "      <th>CabinFlr_7</th>\n",
       "      <th>CabinFlr_8</th>\n",
       "      <th>Embarked_1</th>\n",
       "      <th>Embarked_2</th>\n",
       "      <th>Embarked_3</th>\n",
       "    </tr>\n",
       "    <tr>\n",
       "      <th>PassengerId</th>\n",
       "      <th></th>\n",
       "      <th></th>\n",
       "      <th></th>\n",
       "      <th></th>\n",
       "      <th></th>\n",
       "      <th></th>\n",
       "      <th></th>\n",
       "      <th></th>\n",
       "      <th></th>\n",
       "      <th></th>\n",
       "      <th></th>\n",
       "      <th></th>\n",
       "      <th></th>\n",
       "      <th></th>\n",
       "      <th></th>\n",
       "      <th></th>\n",
       "      <th></th>\n",
       "      <th></th>\n",
       "      <th></th>\n",
       "      <th></th>\n",
       "      <th></th>\n",
       "    </tr>\n",
       "  </thead>\n",
       "  <tbody>\n",
       "    <tr>\n",
       "      <th>1</th>\n",
       "      <td>2</td>\n",
       "      <td>2</td>\n",
       "      <td>1</td>\n",
       "      <td>0</td>\n",
       "      <td>1</td>\n",
       "      <td>0.0</td>\n",
       "      <td>0</td>\n",
       "      <td>0</td>\n",
       "      <td>7</td>\n",
       "      <td>3</td>\n",
       "      <td>...</td>\n",
       "      <td>0.0</td>\n",
       "      <td>0.0</td>\n",
       "      <td>0.0</td>\n",
       "      <td>0.0</td>\n",
       "      <td>0.0</td>\n",
       "      <td>0.0</td>\n",
       "      <td>1.0</td>\n",
       "      <td>0.0</td>\n",
       "      <td>0.0</td>\n",
       "      <td>1.0</td>\n",
       "    </tr>\n",
       "    <tr>\n",
       "      <th>2</th>\n",
       "      <td>7</td>\n",
       "      <td>0</td>\n",
       "      <td>11</td>\n",
       "      <td>2</td>\n",
       "      <td>0</td>\n",
       "      <td>1.0</td>\n",
       "      <td>0</td>\n",
       "      <td>0</td>\n",
       "      <td>2</td>\n",
       "      <td>3</td>\n",
       "      <td>...</td>\n",
       "      <td>0.0</td>\n",
       "      <td>1.0</td>\n",
       "      <td>0.0</td>\n",
       "      <td>0.0</td>\n",
       "      <td>0.0</td>\n",
       "      <td>0.0</td>\n",
       "      <td>0.0</td>\n",
       "      <td>1.0</td>\n",
       "      <td>0.0</td>\n",
       "      <td>0.0</td>\n",
       "    </tr>\n",
       "    <tr>\n",
       "      <th>3</th>\n",
       "      <td>4</td>\n",
       "      <td>2</td>\n",
       "      <td>3</td>\n",
       "      <td>0</td>\n",
       "      <td>0</td>\n",
       "      <td>1.0</td>\n",
       "      <td>0</td>\n",
       "      <td>0</td>\n",
       "      <td>7</td>\n",
       "      <td>0</td>\n",
       "      <td>...</td>\n",
       "      <td>0.0</td>\n",
       "      <td>0.0</td>\n",
       "      <td>0.0</td>\n",
       "      <td>0.0</td>\n",
       "      <td>0.0</td>\n",
       "      <td>0.0</td>\n",
       "      <td>1.0</td>\n",
       "      <td>0.0</td>\n",
       "      <td>0.0</td>\n",
       "      <td>1.0</td>\n",
       "    </tr>\n",
       "    <tr>\n",
       "      <th>4</th>\n",
       "      <td>7</td>\n",
       "      <td>2</td>\n",
       "      <td>10</td>\n",
       "      <td>2</td>\n",
       "      <td>0</td>\n",
       "      <td>1.0</td>\n",
       "      <td>0</td>\n",
       "      <td>0</td>\n",
       "      <td>2</td>\n",
       "      <td>3</td>\n",
       "      <td>...</td>\n",
       "      <td>0.0</td>\n",
       "      <td>1.0</td>\n",
       "      <td>0.0</td>\n",
       "      <td>0.0</td>\n",
       "      <td>0.0</td>\n",
       "      <td>0.0</td>\n",
       "      <td>0.0</td>\n",
       "      <td>0.0</td>\n",
       "      <td>0.0</td>\n",
       "      <td>1.0</td>\n",
       "    </tr>\n",
       "    <tr>\n",
       "      <th>5</th>\n",
       "      <td>7</td>\n",
       "      <td>2</td>\n",
       "      <td>3</td>\n",
       "      <td>0</td>\n",
       "      <td>1</td>\n",
       "      <td>0.0</td>\n",
       "      <td>0</td>\n",
       "      <td>0</td>\n",
       "      <td>7</td>\n",
       "      <td>0</td>\n",
       "      <td>...</td>\n",
       "      <td>0.0</td>\n",
       "      <td>0.0</td>\n",
       "      <td>0.0</td>\n",
       "      <td>0.0</td>\n",
       "      <td>0.0</td>\n",
       "      <td>0.0</td>\n",
       "      <td>1.0</td>\n",
       "      <td>0.0</td>\n",
       "      <td>0.0</td>\n",
       "      <td>1.0</td>\n",
       "    </tr>\n",
       "  </tbody>\n",
       "</table>\n",
       "<p>5 rows × 26 columns</p>\n",
       "</div>"
      ],
      "text/plain": [
       "             Age  Embarked  Fare  Pclass  Sex  Survived  Title_unusual  \\\n",
       "PassengerId                                                              \n",
       "1              2         2     1       0    1       0.0              0   \n",
       "2              7         0    11       2    0       1.0              0   \n",
       "3              4         2     3       0    0       1.0              0   \n",
       "4              7         2    10       2    0       1.0              0   \n",
       "5              7         2     3       0    1       0.0              0   \n",
       "\n",
       "             Is_married  CabinFlr  FamilySize  ...  CabinFlr_2  CabinFlr_3  \\\n",
       "PassengerId                                    ...                           \n",
       "1                     0         7           3  ...         0.0         0.0   \n",
       "2                     0         2           3  ...         0.0         1.0   \n",
       "3                     0         7           0  ...         0.0         0.0   \n",
       "4                     0         2           3  ...         0.0         1.0   \n",
       "5                     0         7           0  ...         0.0         0.0   \n",
       "\n",
       "             CabinFlr_4  CabinFlr_5  CabinFlr_6  CabinFlr_7  CabinFlr_8  \\\n",
       "PassengerId                                                               \n",
       "1                   0.0         0.0         0.0         0.0         1.0   \n",
       "2                   0.0         0.0         0.0         0.0         0.0   \n",
       "3                   0.0         0.0         0.0         0.0         1.0   \n",
       "4                   0.0         0.0         0.0         0.0         0.0   \n",
       "5                   0.0         0.0         0.0         0.0         1.0   \n",
       "\n",
       "             Embarked_1  Embarked_2  Embarked_3  \n",
       "PassengerId                                      \n",
       "1                   0.0         0.0         1.0  \n",
       "2                   1.0         0.0         0.0  \n",
       "3                   0.0         0.0         1.0  \n",
       "4                   0.0         0.0         1.0  \n",
       "5                   0.0         0.0         1.0  \n",
       "\n",
       "[5 rows x 26 columns]"
      ]
     },
     "execution_count": 37,
     "metadata": {},
     "output_type": "execute_result"
    }
   ],
   "source": [
    "train_data.head()"
   ]
  },
  {
   "cell_type": "code",
   "execution_count": 38,
   "metadata": {},
   "outputs": [
    {
     "name": "stdout",
     "output_type": "stream",
     "text": [
      "<class 'pandas.core.frame.DataFrame'>\n",
      "Int64Index: 891 entries, 1 to 891\n",
      "Data columns (total 26 columns):\n",
      " #   Column         Non-Null Count  Dtype  \n",
      "---  ------         --------------  -----  \n",
      " 0   Age            891 non-null    int32  \n",
      " 1   Embarked       891 non-null    int32  \n",
      " 2   Fare           891 non-null    int32  \n",
      " 3   Pclass         891 non-null    int32  \n",
      " 4   Sex            891 non-null    int32  \n",
      " 5   Survived       891 non-null    float64\n",
      " 6   Title_unusual  891 non-null    int64  \n",
      " 7   Is_married     891 non-null    int32  \n",
      " 8   CabinFlr       891 non-null    int32  \n",
      " 9   FamilySize     891 non-null    int32  \n",
      " 10  Pclass_1       891 non-null    float64\n",
      " 11  Pclass_2       891 non-null    float64\n",
      " 12  Pclass_3       891 non-null    float64\n",
      " 13  Sex_1          891 non-null    float64\n",
      " 14  Sex_2          891 non-null    float64\n",
      " 15  CabinFlr_1     891 non-null    float64\n",
      " 16  CabinFlr_2     891 non-null    float64\n",
      " 17  CabinFlr_3     891 non-null    float64\n",
      " 18  CabinFlr_4     891 non-null    float64\n",
      " 19  CabinFlr_5     891 non-null    float64\n",
      " 20  CabinFlr_6     891 non-null    float64\n",
      " 21  CabinFlr_7     891 non-null    float64\n",
      " 22  CabinFlr_8     891 non-null    float64\n",
      " 23  Embarked_1     891 non-null    float64\n",
      " 24  Embarked_2     891 non-null    float64\n",
      " 25  Embarked_3     891 non-null    float64\n",
      "dtypes: float64(17), int32(8), int64(1)\n",
      "memory usage: 160.1 KB\n"
     ]
    }
   ],
   "source": [
    "train_data.info()"
   ]
  },
  {
   "cell_type": "markdown",
   "metadata": {},
   "source": [
    "<b> Running transformation on our test data </b>"
   ]
  },
  {
   "cell_type": "code",
   "execution_count": 39,
   "metadata": {},
   "outputs": [],
   "source": [
    "# Transforming our test data \n",
    "test_df = updating_data(test)"
   ]
  },
  {
   "cell_type": "code",
   "execution_count": 40,
   "metadata": {},
   "outputs": [],
   "source": [
    "test_df = label_encoding(test_df)\n",
    "test_df = onehotencode(test_df)\n",
    "test_df.drop('DataSet', axis=1, inplace=True)"
   ]
  },
  {
   "cell_type": "code",
   "execution_count": 41,
   "metadata": {},
   "outputs": [
    {
     "data": {
      "text/html": [
       "<div>\n",
       "<style scoped>\n",
       "    .dataframe tbody tr th:only-of-type {\n",
       "        vertical-align: middle;\n",
       "    }\n",
       "\n",
       "    .dataframe tbody tr th {\n",
       "        vertical-align: top;\n",
       "    }\n",
       "\n",
       "    .dataframe thead th {\n",
       "        text-align: right;\n",
       "    }\n",
       "</style>\n",
       "<table border=\"1\" class=\"dataframe\">\n",
       "  <thead>\n",
       "    <tr style=\"text-align: right;\">\n",
       "      <th></th>\n",
       "      <th>Age</th>\n",
       "      <th>Embarked</th>\n",
       "      <th>Fare</th>\n",
       "      <th>Pclass</th>\n",
       "      <th>Sex</th>\n",
       "      <th>Title_unusual</th>\n",
       "      <th>Is_married</th>\n",
       "      <th>CabinFlr</th>\n",
       "      <th>FamilySize</th>\n",
       "      <th>Pclass_1</th>\n",
       "      <th>...</th>\n",
       "      <th>CabinFlr_2</th>\n",
       "      <th>CabinFlr_3</th>\n",
       "      <th>CabinFlr_4</th>\n",
       "      <th>CabinFlr_5</th>\n",
       "      <th>CabinFlr_6</th>\n",
       "      <th>CabinFlr_7</th>\n",
       "      <th>CabinFlr_8</th>\n",
       "      <th>Embarked_1</th>\n",
       "      <th>Embarked_2</th>\n",
       "      <th>Embarked_3</th>\n",
       "    </tr>\n",
       "    <tr>\n",
       "      <th>PassengerId</th>\n",
       "      <th></th>\n",
       "      <th></th>\n",
       "      <th></th>\n",
       "      <th></th>\n",
       "      <th></th>\n",
       "      <th></th>\n",
       "      <th></th>\n",
       "      <th></th>\n",
       "      <th></th>\n",
       "      <th></th>\n",
       "      <th></th>\n",
       "      <th></th>\n",
       "      <th></th>\n",
       "      <th></th>\n",
       "      <th></th>\n",
       "      <th></th>\n",
       "      <th></th>\n",
       "      <th></th>\n",
       "      <th></th>\n",
       "      <th></th>\n",
       "      <th></th>\n",
       "    </tr>\n",
       "  </thead>\n",
       "  <tbody>\n",
       "    <tr>\n",
       "      <th>892</th>\n",
       "      <td>6</td>\n",
       "      <td>1</td>\n",
       "      <td>2</td>\n",
       "      <td>0</td>\n",
       "      <td>1</td>\n",
       "      <td>0</td>\n",
       "      <td>0</td>\n",
       "      <td>7</td>\n",
       "      <td>0</td>\n",
       "      <td>1.0</td>\n",
       "      <td>...</td>\n",
       "      <td>0.0</td>\n",
       "      <td>0.0</td>\n",
       "      <td>0.0</td>\n",
       "      <td>0.0</td>\n",
       "      <td>0.0</td>\n",
       "      <td>0.0</td>\n",
       "      <td>1.0</td>\n",
       "      <td>0.0</td>\n",
       "      <td>1.0</td>\n",
       "      <td>0.0</td>\n",
       "    </tr>\n",
       "    <tr>\n",
       "      <th>893</th>\n",
       "      <td>7</td>\n",
       "      <td>2</td>\n",
       "      <td>0</td>\n",
       "      <td>0</td>\n",
       "      <td>0</td>\n",
       "      <td>0</td>\n",
       "      <td>0</td>\n",
       "      <td>7</td>\n",
       "      <td>3</td>\n",
       "      <td>1.0</td>\n",
       "      <td>...</td>\n",
       "      <td>0.0</td>\n",
       "      <td>0.0</td>\n",
       "      <td>0.0</td>\n",
       "      <td>0.0</td>\n",
       "      <td>0.0</td>\n",
       "      <td>0.0</td>\n",
       "      <td>1.0</td>\n",
       "      <td>0.0</td>\n",
       "      <td>0.0</td>\n",
       "      <td>1.0</td>\n",
       "    </tr>\n",
       "    <tr>\n",
       "      <th>894</th>\n",
       "      <td>8</td>\n",
       "      <td>1</td>\n",
       "      <td>4</td>\n",
       "      <td>1</td>\n",
       "      <td>1</td>\n",
       "      <td>0</td>\n",
       "      <td>0</td>\n",
       "      <td>7</td>\n",
       "      <td>0</td>\n",
       "      <td>0.0</td>\n",
       "      <td>...</td>\n",
       "      <td>0.0</td>\n",
       "      <td>0.0</td>\n",
       "      <td>0.0</td>\n",
       "      <td>0.0</td>\n",
       "      <td>0.0</td>\n",
       "      <td>0.0</td>\n",
       "      <td>1.0</td>\n",
       "      <td>0.0</td>\n",
       "      <td>1.0</td>\n",
       "      <td>0.0</td>\n",
       "    </tr>\n",
       "    <tr>\n",
       "      <th>895</th>\n",
       "      <td>4</td>\n",
       "      <td>2</td>\n",
       "      <td>4</td>\n",
       "      <td>0</td>\n",
       "      <td>1</td>\n",
       "      <td>0</td>\n",
       "      <td>0</td>\n",
       "      <td>7</td>\n",
       "      <td>0</td>\n",
       "      <td>1.0</td>\n",
       "      <td>...</td>\n",
       "      <td>0.0</td>\n",
       "      <td>0.0</td>\n",
       "      <td>0.0</td>\n",
       "      <td>0.0</td>\n",
       "      <td>0.0</td>\n",
       "      <td>0.0</td>\n",
       "      <td>1.0</td>\n",
       "      <td>0.0</td>\n",
       "      <td>0.0</td>\n",
       "      <td>1.0</td>\n",
       "    </tr>\n",
       "    <tr>\n",
       "      <th>896</th>\n",
       "      <td>2</td>\n",
       "      <td>2</td>\n",
       "      <td>5</td>\n",
       "      <td>0</td>\n",
       "      <td>0</td>\n",
       "      <td>0</td>\n",
       "      <td>0</td>\n",
       "      <td>7</td>\n",
       "      <td>3</td>\n",
       "      <td>1.0</td>\n",
       "      <td>...</td>\n",
       "      <td>0.0</td>\n",
       "      <td>0.0</td>\n",
       "      <td>0.0</td>\n",
       "      <td>0.0</td>\n",
       "      <td>0.0</td>\n",
       "      <td>0.0</td>\n",
       "      <td>1.0</td>\n",
       "      <td>0.0</td>\n",
       "      <td>0.0</td>\n",
       "      <td>1.0</td>\n",
       "    </tr>\n",
       "  </tbody>\n",
       "</table>\n",
       "<p>5 rows × 25 columns</p>\n",
       "</div>"
      ],
      "text/plain": [
       "             Age  Embarked  Fare  Pclass  Sex  Title_unusual  Is_married  \\\n",
       "PassengerId                                                                \n",
       "892            6         1     2       0    1              0           0   \n",
       "893            7         2     0       0    0              0           0   \n",
       "894            8         1     4       1    1              0           0   \n",
       "895            4         2     4       0    1              0           0   \n",
       "896            2         2     5       0    0              0           0   \n",
       "\n",
       "             CabinFlr  FamilySize  Pclass_1  ...  CabinFlr_2  CabinFlr_3  \\\n",
       "PassengerId                                  ...                           \n",
       "892                 7           0       1.0  ...         0.0         0.0   \n",
       "893                 7           3       1.0  ...         0.0         0.0   \n",
       "894                 7           0       0.0  ...         0.0         0.0   \n",
       "895                 7           0       1.0  ...         0.0         0.0   \n",
       "896                 7           3       1.0  ...         0.0         0.0   \n",
       "\n",
       "             CabinFlr_4  CabinFlr_5  CabinFlr_6  CabinFlr_7  CabinFlr_8  \\\n",
       "PassengerId                                                               \n",
       "892                 0.0         0.0         0.0         0.0         1.0   \n",
       "893                 0.0         0.0         0.0         0.0         1.0   \n",
       "894                 0.0         0.0         0.0         0.0         1.0   \n",
       "895                 0.0         0.0         0.0         0.0         1.0   \n",
       "896                 0.0         0.0         0.0         0.0         1.0   \n",
       "\n",
       "             Embarked_1  Embarked_2  Embarked_3  \n",
       "PassengerId                                      \n",
       "892                 0.0         1.0         0.0  \n",
       "893                 0.0         0.0         1.0  \n",
       "894                 0.0         1.0         0.0  \n",
       "895                 0.0         0.0         1.0  \n",
       "896                 0.0         0.0         1.0  \n",
       "\n",
       "[5 rows x 25 columns]"
      ]
     },
     "execution_count": 41,
     "metadata": {},
     "output_type": "execute_result"
    }
   ],
   "source": [
    "test_df.head()"
   ]
  },
  {
   "cell_type": "markdown",
   "metadata": {},
   "source": [
    "<b> Split the data into independent and dependent variables </b>"
   ]
  },
  {
   "cell_type": "code",
   "execution_count": 42,
   "metadata": {},
   "outputs": [],
   "source": [
    "X = train_data.drop('Survived', axis=1)\n",
    "Y = train_data['Survived']"
   ]
  },
  {
   "cell_type": "code",
   "execution_count": 43,
   "metadata": {},
   "outputs": [
    {
     "name": "stdout",
     "output_type": "stream",
     "text": [
      "(891, 25)\n",
      "(891,)\n"
     ]
    }
   ],
   "source": [
    "print(X.shape)\n",
    "print(Y.shape)"
   ]
  },
  {
   "cell_type": "code",
   "execution_count": 44,
   "metadata": {},
   "outputs": [
    {
     "data": {
      "text/html": [
       "<div>\n",
       "<style scoped>\n",
       "    .dataframe tbody tr th:only-of-type {\n",
       "        vertical-align: middle;\n",
       "    }\n",
       "\n",
       "    .dataframe tbody tr th {\n",
       "        vertical-align: top;\n",
       "    }\n",
       "\n",
       "    .dataframe thead th {\n",
       "        text-align: right;\n",
       "    }\n",
       "</style>\n",
       "<table border=\"1\" class=\"dataframe\">\n",
       "  <thead>\n",
       "    <tr style=\"text-align: right;\">\n",
       "      <th></th>\n",
       "      <th>Age</th>\n",
       "      <th>Embarked</th>\n",
       "      <th>Fare</th>\n",
       "      <th>Pclass</th>\n",
       "      <th>Sex</th>\n",
       "      <th>Title_unusual</th>\n",
       "      <th>Is_married</th>\n",
       "      <th>CabinFlr</th>\n",
       "      <th>FamilySize</th>\n",
       "      <th>Pclass_1</th>\n",
       "      <th>...</th>\n",
       "      <th>CabinFlr_2</th>\n",
       "      <th>CabinFlr_3</th>\n",
       "      <th>CabinFlr_4</th>\n",
       "      <th>CabinFlr_5</th>\n",
       "      <th>CabinFlr_6</th>\n",
       "      <th>CabinFlr_7</th>\n",
       "      <th>CabinFlr_8</th>\n",
       "      <th>Embarked_1</th>\n",
       "      <th>Embarked_2</th>\n",
       "      <th>Embarked_3</th>\n",
       "    </tr>\n",
       "    <tr>\n",
       "      <th>PassengerId</th>\n",
       "      <th></th>\n",
       "      <th></th>\n",
       "      <th></th>\n",
       "      <th></th>\n",
       "      <th></th>\n",
       "      <th></th>\n",
       "      <th></th>\n",
       "      <th></th>\n",
       "      <th></th>\n",
       "      <th></th>\n",
       "      <th></th>\n",
       "      <th></th>\n",
       "      <th></th>\n",
       "      <th></th>\n",
       "      <th></th>\n",
       "      <th></th>\n",
       "      <th></th>\n",
       "      <th></th>\n",
       "      <th></th>\n",
       "      <th></th>\n",
       "      <th></th>\n",
       "    </tr>\n",
       "  </thead>\n",
       "  <tbody>\n",
       "    <tr>\n",
       "      <th>1</th>\n",
       "      <td>2</td>\n",
       "      <td>2</td>\n",
       "      <td>1</td>\n",
       "      <td>0</td>\n",
       "      <td>1</td>\n",
       "      <td>0</td>\n",
       "      <td>0</td>\n",
       "      <td>7</td>\n",
       "      <td>3</td>\n",
       "      <td>1.0</td>\n",
       "      <td>...</td>\n",
       "      <td>0.0</td>\n",
       "      <td>0.0</td>\n",
       "      <td>0.0</td>\n",
       "      <td>0.0</td>\n",
       "      <td>0.0</td>\n",
       "      <td>0.0</td>\n",
       "      <td>1.0</td>\n",
       "      <td>0.0</td>\n",
       "      <td>0.0</td>\n",
       "      <td>1.0</td>\n",
       "    </tr>\n",
       "    <tr>\n",
       "      <th>2</th>\n",
       "      <td>7</td>\n",
       "      <td>0</td>\n",
       "      <td>11</td>\n",
       "      <td>2</td>\n",
       "      <td>0</td>\n",
       "      <td>0</td>\n",
       "      <td>0</td>\n",
       "      <td>2</td>\n",
       "      <td>3</td>\n",
       "      <td>0.0</td>\n",
       "      <td>...</td>\n",
       "      <td>0.0</td>\n",
       "      <td>1.0</td>\n",
       "      <td>0.0</td>\n",
       "      <td>0.0</td>\n",
       "      <td>0.0</td>\n",
       "      <td>0.0</td>\n",
       "      <td>0.0</td>\n",
       "      <td>1.0</td>\n",
       "      <td>0.0</td>\n",
       "      <td>0.0</td>\n",
       "    </tr>\n",
       "    <tr>\n",
       "      <th>3</th>\n",
       "      <td>4</td>\n",
       "      <td>2</td>\n",
       "      <td>3</td>\n",
       "      <td>0</td>\n",
       "      <td>0</td>\n",
       "      <td>0</td>\n",
       "      <td>0</td>\n",
       "      <td>7</td>\n",
       "      <td>0</td>\n",
       "      <td>1.0</td>\n",
       "      <td>...</td>\n",
       "      <td>0.0</td>\n",
       "      <td>0.0</td>\n",
       "      <td>0.0</td>\n",
       "      <td>0.0</td>\n",
       "      <td>0.0</td>\n",
       "      <td>0.0</td>\n",
       "      <td>1.0</td>\n",
       "      <td>0.0</td>\n",
       "      <td>0.0</td>\n",
       "      <td>1.0</td>\n",
       "    </tr>\n",
       "    <tr>\n",
       "      <th>4</th>\n",
       "      <td>7</td>\n",
       "      <td>2</td>\n",
       "      <td>10</td>\n",
       "      <td>2</td>\n",
       "      <td>0</td>\n",
       "      <td>0</td>\n",
       "      <td>0</td>\n",
       "      <td>2</td>\n",
       "      <td>3</td>\n",
       "      <td>0.0</td>\n",
       "      <td>...</td>\n",
       "      <td>0.0</td>\n",
       "      <td>1.0</td>\n",
       "      <td>0.0</td>\n",
       "      <td>0.0</td>\n",
       "      <td>0.0</td>\n",
       "      <td>0.0</td>\n",
       "      <td>0.0</td>\n",
       "      <td>0.0</td>\n",
       "      <td>0.0</td>\n",
       "      <td>1.0</td>\n",
       "    </tr>\n",
       "    <tr>\n",
       "      <th>5</th>\n",
       "      <td>7</td>\n",
       "      <td>2</td>\n",
       "      <td>3</td>\n",
       "      <td>0</td>\n",
       "      <td>1</td>\n",
       "      <td>0</td>\n",
       "      <td>0</td>\n",
       "      <td>7</td>\n",
       "      <td>0</td>\n",
       "      <td>1.0</td>\n",
       "      <td>...</td>\n",
       "      <td>0.0</td>\n",
       "      <td>0.0</td>\n",
       "      <td>0.0</td>\n",
       "      <td>0.0</td>\n",
       "      <td>0.0</td>\n",
       "      <td>0.0</td>\n",
       "      <td>1.0</td>\n",
       "      <td>0.0</td>\n",
       "      <td>0.0</td>\n",
       "      <td>1.0</td>\n",
       "    </tr>\n",
       "  </tbody>\n",
       "</table>\n",
       "<p>5 rows × 25 columns</p>\n",
       "</div>"
      ],
      "text/plain": [
       "             Age  Embarked  Fare  Pclass  Sex  Title_unusual  Is_married  \\\n",
       "PassengerId                                                                \n",
       "1              2         2     1       0    1              0           0   \n",
       "2              7         0    11       2    0              0           0   \n",
       "3              4         2     3       0    0              0           0   \n",
       "4              7         2    10       2    0              0           0   \n",
       "5              7         2     3       0    1              0           0   \n",
       "\n",
       "             CabinFlr  FamilySize  Pclass_1  ...  CabinFlr_2  CabinFlr_3  \\\n",
       "PassengerId                                  ...                           \n",
       "1                   7           3       1.0  ...         0.0         0.0   \n",
       "2                   2           3       0.0  ...         0.0         1.0   \n",
       "3                   7           0       1.0  ...         0.0         0.0   \n",
       "4                   2           3       0.0  ...         0.0         1.0   \n",
       "5                   7           0       1.0  ...         0.0         0.0   \n",
       "\n",
       "             CabinFlr_4  CabinFlr_5  CabinFlr_6  CabinFlr_7  CabinFlr_8  \\\n",
       "PassengerId                                                               \n",
       "1                   0.0         0.0         0.0         0.0         1.0   \n",
       "2                   0.0         0.0         0.0         0.0         0.0   \n",
       "3                   0.0         0.0         0.0         0.0         1.0   \n",
       "4                   0.0         0.0         0.0         0.0         0.0   \n",
       "5                   0.0         0.0         0.0         0.0         1.0   \n",
       "\n",
       "             Embarked_1  Embarked_2  Embarked_3  \n",
       "PassengerId                                      \n",
       "1                   0.0         0.0         1.0  \n",
       "2                   1.0         0.0         0.0  \n",
       "3                   0.0         0.0         1.0  \n",
       "4                   0.0         0.0         1.0  \n",
       "5                   0.0         0.0         1.0  \n",
       "\n",
       "[5 rows x 25 columns]"
      ]
     },
     "execution_count": 44,
     "metadata": {},
     "output_type": "execute_result"
    }
   ],
   "source": [
    "X.head()"
   ]
  },
  {
   "cell_type": "markdown",
   "metadata": {},
   "source": [
    "<b> Adjusting the imbalance dataset </b>"
   ]
  },
  {
   "cell_type": "code",
   "execution_count": 45,
   "metadata": {},
   "outputs": [
    {
     "name": "stdout",
     "output_type": "stream",
     "text": [
      "0.0    0.616162\n",
      "1.0    0.383838\n",
      "Name: Survived, dtype: float64\n"
     ]
    },
    {
     "data": {
      "text/plain": [
       "<matplotlib.axes._subplots.AxesSubplot at 0x1a73ca602e0>"
      ]
     },
     "execution_count": 45,
     "metadata": {},
     "output_type": "execute_result"
    },
    {
     "data": {
      "image/png": "[encoded data removed]",
      "text/plain": [
       "<Figure size 1152x720 with 1 Axes>"
      ]
     },
     "metadata": {},
     "output_type": "display_data"
    }
   ],
   "source": [
    "print(train_data['Survived'].value_counts(normalize=True))\n",
    "train_data['Survived'].hist()"
   ]
  },
  {
   "cell_type": "markdown",
   "metadata": {},
   "source": [
    "### Training the model \n",
    "There are couple of steps involved in building the model:\n",
    "\n",
    "1. **Split the data into training and testing.** \n",
    "\n",
    "2. **Balance our training data** \n",
    "\n",
    "3. **Tweak the hyperparameters of the model** "
   ]
  },
  {
   "cell_type": "code",
   "execution_count": 46,
   "metadata": {},
   "outputs": [],
   "source": [
    "from sklearn.ensemble import RandomForestClassifier\n",
    "from sklearn.model_selection import train_test_split \n",
    "from sklearn.feature_selection import SelectFromModel\n",
    "from sklearn.utils import class_weight\n",
    "from sklearn import metrics"
   ]
  },
  {
   "cell_type": "code",
   "execution_count": 47,
   "metadata": {},
   "outputs": [
    {
     "name": "stdout",
     "output_type": "stream",
     "text": [
      "(596, 25)\n",
      "(295, 25)\n",
      "(596,)\n",
      "(295,)\n"
     ]
    }
   ],
   "source": [
    "X_train, X_test, Y_train, Y_test = train_test_split(X,Y, test_size=0.33, random_state=0)\n",
    "print(X_train.shape)\n",
    "print(X_test.shape)\n",
    "print(Y_train.shape)\n",
    "print(Y_test.shape)"
   ]
  },
  {
   "cell_type": "code",
   "execution_count": 48,
   "metadata": {},
   "outputs": [],
   "source": [
    "# Balancing the dataset using random oversampling \n",
    "from imblearn.over_sampling import RandomOverSampler\n",
    "\n",
    "ros = RandomOverSampler()\n",
    "X_train1, Y_train1 = ros.fit_sample(X_train, Y_train)"
   ]
  },
  {
   "cell_type": "code",
   "execution_count": 49,
   "metadata": {},
   "outputs": [
    {
     "name": "stdout",
     "output_type": "stream",
     "text": [
      "(730, 25)\n",
      "(730,)\n"
     ]
    }
   ],
   "source": [
    "print(X_train1.shape)\n",
    "print(Y_train1.shape)"
   ]
  },
  {
   "cell_type": "code",
   "execution_count": 50,
   "metadata": {},
   "outputs": [
    {
     "data": {
      "text/plain": [
       "(array([0., 1.]), array([365, 365], dtype=int64))"
      ]
     },
     "execution_count": 50,
     "metadata": {},
     "output_type": "execute_result"
    }
   ],
   "source": [
    "np.unique(Y_train1, return_counts=True)"
   ]
  },
  {
   "cell_type": "code",
   "execution_count": 51,
   "metadata": {},
   "outputs": [
    {
     "name": "stdout",
     "output_type": "stream",
     "text": [
      "[0.81643836 1.29004329]\n"
     ]
    },
    {
     "name": "stderr",
     "output_type": "stream",
     "text": [
      "C:\\Users\\priya\\Anaconda3\\lib\\site-packages\\sklearn\\utils\\validation.py:68: FutureWarning: Pass classes=[0. 1.], y=PassengerId\n",
      "243    0.0\n",
      "345    0.0\n",
      "171    0.0\n",
      "188    1.0\n",
      "801    0.0\n",
      "      ... \n",
      "836    1.0\n",
      "193    1.0\n",
      "630    0.0\n",
      "560    1.0\n",
      "685    0.0\n",
      "Name: Survived, Length: 596, dtype: float64 as keyword args. From version 0.25 passing these as positional arguments will result in an error\n",
      "  warnings.warn(\"Pass {} as keyword args. From version 0.25 \"\n"
     ]
    }
   ],
   "source": [
    "class_weights = class_weight.compute_class_weight('balanced', np.unique(Y_train), Y_train)\n",
    "print(class_weights)"
   ]
  },
  {
   "cell_type": "code",
   "execution_count": 52,
   "metadata": {},
   "outputs": [],
   "source": [
    "rf = RandomForestClassifier(n_estimators=1100, criterion='gini', max_depth=5,\n",
    "                           min_samples_split=4, min_samples_leaf=5, min_weight_fraction_leaf=0.0,\n",
    "                            max_features='auto', max_leaf_nodes=None, min_impurity_decrease=0.0,\n",
    "                            min_impurity_split=None, bootstrap=True, oob_score=True, n_jobs=-1, random_state=24, \n",
    "                            verbose=1, warm_start=False, class_weight={0: class_weights[0], 1: class_weights[1]})"
   ]
  },
  {
   "cell_type": "code",
   "execution_count": 53,
   "metadata": {},
   "outputs": [
    {
     "name": "stderr",
     "output_type": "stream",
     "text": [
      "[Parallel(n_jobs=-1)]: Using backend ThreadingBackend with 8 concurrent workers.\n",
      "[Parallel(n_jobs=-1)]: Done  34 tasks      | elapsed:    0.0s\n",
      "[Parallel(n_jobs=-1)]: Done 184 tasks      | elapsed:    0.1s\n",
      "[Parallel(n_jobs=-1)]: Done 434 tasks      | elapsed:    0.3s\n",
      "[Parallel(n_jobs=-1)]: Done 784 tasks      | elapsed:    0.7s\n",
      "[Parallel(n_jobs=-1)]: Done 1100 out of 1100 | elapsed:    1.0s finished\n"
     ]
    },
    {
     "data": {
      "text/plain": [
       "RandomForestClassifier(class_weight={0: 0.8164383561643835,\n",
       "                                     1: 1.29004329004329},\n",
       "                       max_depth=5, min_samples_leaf=5, min_samples_split=4,\n",
       "                       n_estimators=1100, n_jobs=-1, oob_score=True,\n",
       "                       random_state=24, verbose=1)"
      ]
     },
     "execution_count": 53,
     "metadata": {},
     "output_type": "execute_result"
    }
   ],
   "source": [
    "rf.fit(X_train1, Y_train1)"
   ]
  },
  {
   "cell_type": "code",
   "execution_count": 54,
   "metadata": {},
   "outputs": [
    {
     "data": {
      "text/plain": [
       "25"
      ]
     },
     "execution_count": 54,
     "metadata": {},
     "output_type": "execute_result"
    }
   ],
   "source": [
    "rf.n_features_"
   ]
  },
  {
   "cell_type": "markdown",
   "metadata": {},
   "source": [
    "#### Output of the model\n",
    "\n",
    "1. **Predict the test data and look at the predictive accuracy of the model:** \n",
    "\n",
    "2. **Variable Importance:** Look at which feature are most important in predicting the model. "
   ]
  },
  {
   "cell_type": "code",
   "execution_count": 55,
   "metadata": {},
   "outputs": [
    {
     "name": "stderr",
     "output_type": "stream",
     "text": [
      "[Parallel(n_jobs=8)]: Using backend ThreadingBackend with 8 concurrent workers.\n",
      "[Parallel(n_jobs=8)]: Done  34 tasks      | elapsed:    0.0s\n",
      "[Parallel(n_jobs=8)]: Done 184 tasks      | elapsed:    0.0s\n",
      "[Parallel(n_jobs=8)]: Done 434 tasks      | elapsed:    0.0s\n",
      "[Parallel(n_jobs=8)]: Done 784 tasks      | elapsed:    0.0s\n",
      "[Parallel(n_jobs=8)]: Done 1100 out of 1100 | elapsed:    0.1s finished\n"
     ]
    }
   ],
   "source": [
    "y_pred_proba = rf.predict_proba(X_test)"
   ]
  },
  {
   "cell_type": "code",
   "execution_count": 56,
   "metadata": {},
   "outputs": [
    {
     "name": "stdout",
     "output_type": "stream",
     "text": [
      "[0.4227187  0.20789903 0.26622583 0.99256514 0.79300452 0.47168673\n",
      " 0.96487711 0.9507723  0.74048641 0.81699929 0.20964404 0.90982683\n",
      " 0.18924719 0.94982938 0.96383763 0.68020787 0.23075331 0.35689677\n",
      " 0.25633738 0.65945378 0.26331441 0.92770889 0.18924719 0.36491477\n",
      " 0.68993236 0.98890223 0.24682368 0.70169608 0.94218796 0.50874665\n",
      " 0.37829648 0.87781455 0.27087185 0.45047519 0.22558158 0.60386074\n",
      " 0.23098444 0.24635377 0.22422433 0.33524389 0.65215255 0.34895495\n",
      " 0.22828735 0.23824308 0.95106988 0.20962917 0.20962917 0.98708904\n",
      " 0.23810137 0.60980586 0.51081287 0.69958694 0.94278552 0.21344125\n",
      " 0.51076593 0.27091313 0.48237332 0.50874665 0.27876389 0.2366383\n",
      " 0.39782642 0.5939109  0.98733157 0.40752551 0.65968637 0.21717432\n",
      " 0.95488883 0.470769   0.94982938 0.9673583  0.94218796 0.53788807\n",
      " 0.48364239 0.23332583 0.23332583 0.93746743 0.59375346 0.46070126\n",
      " 0.25336516 0.37295077 0.23406824 0.59435189 0.94273133 0.25973298\n",
      " 0.24858344 0.97613683 0.94773751 0.64146628 0.90025336 0.75058098\n",
      " 0.448072   0.21344125 0.76220832 0.98930531 0.50874665 0.34895495\n",
      " 0.92294516 0.23824308 0.42650229 0.59206702 0.2378088  0.46688108\n",
      " 0.36690545 0.27000446 0.69506514 0.68348485 0.91170765 0.46408325\n",
      " 0.26587838 0.81398303 0.22357607 0.9725315  0.27800079 0.68704096\n",
      " 0.66232805 0.91170765 0.65433684 0.95408411 0.22758695 0.9291338\n",
      " 0.24168451 0.20616809 0.23601653 0.39721566 0.27153135 0.509096\n",
      " 0.34895495 0.20166609 0.23504936 0.31937455 0.85763014 0.23527189\n",
      " 0.21863896 0.68643468 0.37010622 0.23527189 0.20332589 0.65638204\n",
      " 0.26550208 0.22422433 0.24804279 0.9562966  0.23332583 0.84966893\n",
      " 0.92870685 0.66068206 0.24804279 0.9291338  0.98583726 0.23075331\n",
      " 0.55388722 0.65435587 0.65519689 0.24793991 0.92801106 0.24020248\n",
      " 0.77827751 0.22997461 0.85763014 0.87122017 0.20962917 0.3977973\n",
      " 0.96554859 0.66731608 0.52118547 0.36004394 0.22926584 0.21299086\n",
      " 0.20962917 0.23601653 0.2523265  0.96977843 0.20789903 0.22828735\n",
      " 0.81567845 0.23332583 0.99005421 0.20962917 0.23865428 0.83395307\n",
      " 0.24912684 0.40838302 0.3977973  0.2108555  0.47168673 0.23527189\n",
      " 0.85355999 0.23504936 0.23287859 0.94501143 0.68476672 0.65859029\n",
      " 0.81567845 0.85763014 0.18924719 0.65215255 0.23332583 0.69509133\n",
      " 0.41078309 0.22926584 0.23865428 0.83395307 0.22997461 0.84016996\n",
      " 0.23865428 0.42113823 0.68950303 0.27153135 0.85467867 0.2523265\n",
      " 0.21863896 0.49881364 0.27709651 0.84003443 0.25075603 0.21344125\n",
      " 0.4084836  0.59435189 0.50046637 0.95908609 0.21344125 0.98808785\n",
      " 0.74114627 0.24793991 0.6289157  0.24656977 0.2108555  0.91471251\n",
      " 0.21863896 0.30644067 0.27153135 0.93702349 0.65849749 0.68072878\n",
      " 0.37010622 0.24620239 0.95908609 0.9524168  0.92469639 0.20789903\n",
      " 0.34895495 0.98071565 0.27457493 0.25174203 0.97132269 0.59544046\n",
      " 0.85038204 0.20962917 0.23332583 0.74027455 0.21299086 0.40193956\n",
      " 0.63972887 0.23504936 0.4714009  0.69508798 0.85763014 0.2540451\n",
      " 0.27876389 0.19784146 0.20962917 0.48369856 0.3239526  0.51427868\n",
      " 0.21110423 0.47842887 0.69635512 0.37874868 0.58542183 0.98733157\n",
      " 0.27657501 0.59780776 0.83395307 0.68297336 0.74048641 0.23865428\n",
      " 0.27381463 0.21863896 0.85355999 0.70169608 0.20789903 0.81398303\n",
      " 0.45047519 0.9546868  0.22357607 0.20962917 0.49045973 0.54333482\n",
      " 0.24095713 0.46725901 0.24804279 0.27845992 0.86676398 0.95144527\n",
      " 0.91939544]\n",
      "(295, 2)\n"
     ]
    }
   ],
   "source": [
    "print(y_pred_proba[:,1])\n",
    "print(y_pred_proba.shape)"
   ]
  },
  {
   "cell_type": "markdown",
   "metadata": {},
   "source": [
    "<b> Evaluation of the model </b>"
   ]
  },
  {
   "cell_type": "code",
   "execution_count": 58,
   "metadata": {},
   "outputs": [
    {
     "name": "stdout",
     "output_type": "stream",
     "text": [
      "The roc score of the model is 0.877301214257736.\n",
      "\n",
      "The average precision of the model is 0.8558145794573412.\n",
      "\n"
     ]
    }
   ],
   "source": [
    "from sklearn.metrics import roc_curve, auc, roc_auc_score\n",
    "from sklearn.metrics import precision_recall_curve, average_precision_score\n",
    "fpr, tpr, thresholds = roc_curve(Y_test, y_pred_proba[:,1])\n",
    "precision, recall, thresholds = precision_recall_curve(Y_test, y_pred_proba[:,1])\n",
    "roc_auc_score = roc_auc_score(Y_test, y_pred_proba[:,1])\n",
    "average_precision = average_precision_score(Y_test, y_pred_proba[:,1])\n",
    "print('The roc score of the model is {}.\\n'.format(roc_auc_score))\n",
    "print('The average precision of the model is {}.\\n'.format(average_precision))"
   ]
  },
  {
   "cell_type": "code",
   "execution_count": 59,
   "metadata": {},
   "outputs": [
    {
     "data": {
      "image/png": "[encoded data removed]",
      "text/plain": [
       "<Figure size 720x576 with 1 Axes>"
      ]
     },
     "metadata": {},
     "output_type": "display_data"
    }
   ],
   "source": [
    "#plot the AUC/ROC curve for the model\n",
    "plt.figure(figsize=(10,8))\n",
    "lw = 2\n",
    "plt.plot(fpr, tpr, color='darkorange',\n",
    "         lw=lw, label='ROC curve (area = %0.2f)' % roc_auc_score)\n",
    "plt.plot([0, 1], [0, 1], color='navy', lw=lw, linestyle='--')\n",
    "plt.xlim([-0.05, 1.0])\n",
    "plt.ylim([-0.05, 1.05])\n",
    "plt.xlabel('False Positive Rate')\n",
    "plt.ylabel('True Positive Rate')\n",
    "plt.legend(loc=\"lower right\")\n",
    "plt.show()"
   ]
  },
  {
   "cell_type": "code",
   "execution_count": 60,
   "metadata": {},
   "outputs": [
    {
     "data": {
      "image/png": "[encoded data removed]",
      "text/plain": [
       "<Figure size 720x576 with 1 Axes>"
      ]
     },
     "metadata": {},
     "output_type": "display_data"
    }
   ],
   "source": [
    "###plot a precision recall curve\n",
    "plt.figure(figsize=(10,8))\n",
    "plt.plot([0,1], [0.5, 0.5], linestyle=\"--\", color='navy', lw=2)\n",
    "plt.plot(recall, precision, color='darkorange', lw=2)\n",
    "plt.xlim([-0.05, 1.0])\n",
    "plt.ylim([0.3, 1.05])\n",
    "plt.xlabel('Recall')\n",
    "plt.ylabel('Precision')\n",
    "plt.show()"
   ]
  },
  {
   "cell_type": "code",
   "execution_count": 61,
   "metadata": {},
   "outputs": [
    {
     "name": "stderr",
     "output_type": "stream",
     "text": [
      "[Parallel(n_jobs=8)]: Using backend ThreadingBackend with 8 concurrent workers.\n",
      "[Parallel(n_jobs=8)]: Done  34 tasks      | elapsed:    0.0s\n",
      "[Parallel(n_jobs=8)]: Done 184 tasks      | elapsed:    0.0s\n",
      "[Parallel(n_jobs=8)]: Done 434 tasks      | elapsed:    0.0s\n",
      "[Parallel(n_jobs=8)]: Done 784 tasks      | elapsed:    0.0s\n",
      "[Parallel(n_jobs=8)]: Done 1100 out of 1100 | elapsed:    0.1s finished\n"
     ]
    }
   ],
   "source": [
    "y_pred = rf.predict(X_test)"
   ]
  },
  {
   "cell_type": "code",
   "execution_count": 62,
   "metadata": {},
   "outputs": [
    {
     "name": "stdout",
     "output_type": "stream",
     "text": [
      "[[143  41]\n",
      " [ 17  94]] \n",
      "\n",
      "The accuracy score is: 0.8033898305084746.\n",
      "\n",
      "              precision    recall  f1-score   support\n",
      "\n",
      "         0.0       0.89      0.78      0.83       184\n",
      "         1.0       0.70      0.85      0.76       111\n",
      "\n",
      "    accuracy                           0.80       295\n",
      "   macro avg       0.80      0.81      0.80       295\n",
      "weighted avg       0.82      0.80      0.81       295\n",
      "\n"
     ]
    }
   ],
   "source": [
    "from sklearn.metrics import accuracy_score\n",
    "from sklearn.metrics import confusion_matrix\n",
    "from sklearn.metrics import classification_report\n",
    "\n",
    "print(confusion_matrix(Y_test, y_pred), \"\\n\")\n",
    "print(\"The accuracy score is: {}.\\n\".format(accuracy_score(Y_test, y_pred)))\n",
    "print(classification_report(Y_test, y_pred))"
   ]
  },
  {
   "cell_type": "code",
   "execution_count": 63,
   "metadata": {},
   "outputs": [
    {
     "name": "stderr",
     "output_type": "stream",
     "text": [
      "[Parallel(n_jobs=8)]: Using backend ThreadingBackend with 8 concurrent workers.\n",
      "[Parallel(n_jobs=8)]: Done  34 tasks      | elapsed:    0.0s\n",
      "[Parallel(n_jobs=8)]: Done 184 tasks      | elapsed:    0.0s\n",
      "[Parallel(n_jobs=8)]: Done 434 tasks      | elapsed:    0.0s\n",
      "[Parallel(n_jobs=8)]: Done 784 tasks      | elapsed:    0.0s\n",
      "[Parallel(n_jobs=8)]: Done 1100 out of 1100 | elapsed:    0.1s finished\n"
     ]
    }
   ],
   "source": [
    "prediction = rf.predict(test_df)"
   ]
  },
  {
   "cell_type": "code",
   "execution_count": 64,
   "metadata": {},
   "outputs": [
    {
     "data": {
      "text/plain": [
       "array([0., 1., 0., 0., 1., 0., 1., 0., 1., 0., 0., 0., 1., 0., 1., 1., 0.,\n",
       "       0., 1., 1., 0., 1., 1., 1., 1., 0., 1., 0., 1., 0., 0., 0., 1., 1.,\n",
       "       1., 0., 1., 1., 0., 0., 0., 1., 0., 1., 1., 0., 1., 0., 1., 1., 1.,\n",
       "       0., 1., 1., 0., 0., 0., 0., 0., 1., 0., 0., 0., 1., 1., 1., 1., 0.,\n",
       "       1., 1., 1., 0., 1., 1., 1., 1., 0., 1., 0., 1., 1., 1., 0., 0., 0.,\n",
       "       0., 1., 1., 1., 1., 1., 0., 1., 0., 0., 0., 1., 0., 1., 0., 1., 0.,\n",
       "       0., 0., 1., 0., 0., 0., 0., 0., 0., 1., 1., 1., 1., 1., 0., 1., 1.,\n",
       "       1., 1., 0., 1., 0., 0., 1., 0., 1., 0., 0., 0., 1., 1., 0., 0., 0.,\n",
       "       0., 0., 1., 0., 0., 1., 1., 0., 0., 0., 1., 0., 0., 0., 1., 0., 0.,\n",
       "       1., 0., 0., 1., 1., 1., 1., 1., 1., 1., 0., 0., 1., 1., 0., 1., 1.,\n",
       "       0., 0., 0., 0., 0., 1., 1., 1., 1., 1., 0., 1., 1., 0., 1., 0., 1.,\n",
       "       0., 0., 0., 0., 0., 1., 0., 1., 0., 1., 1., 0., 1., 1., 1., 1., 1.,\n",
       "       0., 0., 1., 0., 1., 0., 0., 0., 0., 1., 1., 1., 1., 0., 1., 0., 1.,\n",
       "       0., 1., 0., 1., 1., 0., 1., 0., 0., 0., 1., 0., 0., 1., 0., 1., 0.,\n",
       "       1., 1., 1., 1., 1., 0., 0., 1., 1., 0., 1., 1., 1., 0., 1., 0., 0.,\n",
       "       0., 0., 0., 1., 0., 0., 0., 1., 1., 0., 0., 0., 0., 1., 0., 1., 0.,\n",
       "       1., 1., 0., 1., 0., 0., 0., 0., 1., 1., 1., 1., 1., 0., 0., 1., 0.,\n",
       "       0., 0., 1., 0., 1., 0., 0., 1., 0., 0., 0., 0., 1., 0., 0., 1., 1.,\n",
       "       1., 1., 1., 1., 0., 0., 0., 1., 1., 1., 1., 0., 0., 0., 0., 0., 0.,\n",
       "       0., 1., 0., 1., 0., 0., 0., 1., 1., 0., 1., 0., 1., 0., 0., 0., 0.,\n",
       "       0., 0., 0., 1., 0., 1., 0., 1., 0., 1., 1., 0., 0., 0., 1., 1., 1.,\n",
       "       0., 0., 1., 0., 1., 1., 0., 1., 0., 0., 1., 1., 0., 0., 1., 0., 0.,\n",
       "       1., 1., 1., 0., 0., 0., 0., 0., 1., 1., 0., 1., 0., 0., 0., 0., 1.,\n",
       "       1., 1., 0., 0., 1., 0., 1., 0., 0., 1., 0., 1., 0., 1., 1., 0., 1.,\n",
       "       1., 1., 1., 1., 1., 0., 1., 0., 0., 1.])"
      ]
     },
     "execution_count": 64,
     "metadata": {},
     "output_type": "execute_result"
    }
   ],
   "source": [
    "prediction"
   ]
  },
  {
   "cell_type": "code",
   "execution_count": 65,
   "metadata": {},
   "outputs": [],
   "source": [
    "result_df = pd.DataFrame(columns=['PassengerId', 'Survived'])"
   ]
  },
  {
   "cell_type": "code",
   "execution_count": 67,
   "metadata": {},
   "outputs": [],
   "source": [
    "result_df['PassengerId'] = test_df.index.values\n",
    "result_df['Survived'] = prediction"
   ]
  },
  {
   "cell_type": "code",
   "execution_count": 68,
   "metadata": {},
   "outputs": [
    {
     "data": {
      "text/html": [
       "<div>\n",
       "<style scoped>\n",
       "    .dataframe tbody tr th:only-of-type {\n",
       "        vertical-align: middle;\n",
       "    }\n",
       "\n",
       "    .dataframe tbody tr th {\n",
       "        vertical-align: top;\n",
       "    }\n",
       "\n",
       "    .dataframe thead th {\n",
       "        text-align: right;\n",
       "    }\n",
       "</style>\n",
       "<table border=\"1\" class=\"dataframe\">\n",
       "  <thead>\n",
       "    <tr style=\"text-align: right;\">\n",
       "      <th></th>\n",
       "      <th>PassengerId</th>\n",
       "      <th>Survived</th>\n",
       "    </tr>\n",
       "  </thead>\n",
       "  <tbody>\n",
       "    <tr>\n",
       "      <th>0</th>\n",
       "      <td>892</td>\n",
       "      <td>0.0</td>\n",
       "    </tr>\n",
       "    <tr>\n",
       "      <th>1</th>\n",
       "      <td>893</td>\n",
       "      <td>1.0</td>\n",
       "    </tr>\n",
       "    <tr>\n",
       "      <th>2</th>\n",
       "      <td>894</td>\n",
       "      <td>0.0</td>\n",
       "    </tr>\n",
       "    <tr>\n",
       "      <th>3</th>\n",
       "      <td>895</td>\n",
       "      <td>0.0</td>\n",
       "    </tr>\n",
       "    <tr>\n",
       "      <th>4</th>\n",
       "      <td>896</td>\n",
       "      <td>1.0</td>\n",
       "    </tr>\n",
       "  </tbody>\n",
       "</table>\n",
       "</div>"
      ],
      "text/plain": [
       "   PassengerId  Survived\n",
       "0          892       0.0\n",
       "1          893       1.0\n",
       "2          894       0.0\n",
       "3          895       0.0\n",
       "4          896       1.0"
      ]
     },
     "execution_count": 68,
     "metadata": {},
     "output_type": "execute_result"
    }
   ],
   "source": [
    "result_df.head()"
   ]
  },
  {
   "cell_type": "code",
   "execution_count": 69,
   "metadata": {},
   "outputs": [],
   "source": [
    "inputDir = r'C:\\Users\\priya\\Python Projects\\Titanic Kaggle'\n",
    "fileName = r'\\Submission2.csv'\n",
    "\n",
    "result_df.to_csv(inputDir+fileName, index=False)"
   ]
  },
  {
   "cell_type": "code",
   "execution_count": null,
   "metadata": {},
   "outputs": [],
   "source": []
  }
 ],
 "metadata": {
  "kernelspec": {
   "display_name": "Python 3",
   "language": "python",
   "name": "python3"
  },
  "language_info": {
   "codemirror_mode": {
    "name": "ipython",
    "version": 3
   },
   "file_extension": ".py",
   "mimetype": "text/x-python",
   "name": "python",
   "nbconvert_exporter": "python",
   "pygments_lexer": "ipython3",
   "version": "3.8.3"
  }
 },
 "nbformat": 4,
 "nbformat_minor": 4
}
